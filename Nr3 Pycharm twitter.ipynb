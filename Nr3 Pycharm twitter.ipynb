{
 "cells": [
  {
   "cell_type": "markdown",
   "metadata": {
    "collapsed": true
   },
   "source": [
    "# Twitter data\n",
    "\n",
    "## Copyright and Licensing\n",
    "\n",
    "You are free to use or adapt this notebook for any purpose you'd like. However, please respect the [Simplified BSD License](https://github.com/ptwobrussell/Mining-the-Social-Web-2nd-Edition/blob/master/LICENSE.txt) that governs its use."
   ]
  },
  {
   "cell_type": "markdown",
   "metadata": {},
   "source": [
    "# Twitter API Access\n",
    "\n",
    "Twitter implements OAuth 1.0A as its standard authentication mechanism, and in order to use it to make requests to Twitter's API, you'll need to go to https://dev.twitter.com/apps and create a sample application.\n",
    "\n",
    "Choose any name for your application, write a description and use `http://google.com` for the website.\n",
    "\n",
    "Under **Key and Access Tokens**, there are four primary identifiers you'll need to note for an OAuth 1.0A workflow: \n",
    "* consumer key, \n",
    "* consumer secret, \n",
    "* access token, and \n",
    "* access token secret (Click on Create Access Token to create those).\n",
    "\n",
    "Note that you will need an ordinary Twitter account in order to login, create an app, and get these credentials."
   ]
  },
  {
   "cell_type": "markdown",
   "metadata": {},
   "source": [
    "The first time you execute the notebook, add all credentials so that you can save them in the `pkl` file, then you can remove the secret keys from the notebook because they will just be loaded from the `pkl` file.\n",
    "\n",
    "The `pkl` file contains sensitive information that can be used to take control of your twitter acccount, **do not share it**."
   ]
  },
  {
   "cell_type": "code",
   "execution_count": 35,
   "metadata": {},
   "outputs": [],
   "source": [
    "import pickle\n",
    "import os"
   ]
  },
  {
   "cell_type": "markdown",
   "metadata": {},
   "source": [
    "As you see in this code block, in this if statement,\n",
    "we create an object called Twitter and we use it\n",
    "to store our access credentials.\n",
    "So consumer key, consumer secret,\n",
    "they are all stored in the Twitter object.\n",
    "If the pickled credentials exist,\n",
    "it will just load the credentials from the pickle file\n",
    "into the Twitter object."
   ]
  },
  {
   "cell_type": "markdown",
   "metadata": {},
   "source": [
    "What does pickle do, right?\n",
    "It's a cute name for a Python utility module\n",
    "to save any Python object or data structure on disk.\n",
    "Pickle will do something special called serialization.\n",
    "To convert any Python object or in this case,\n",
    "this Twitter object, into a character stream\n",
    "so the object can be created later in Python\n",
    "when we need it.\n",
    "Reconstruction of that object is called deserialization.\n",
    "So pickle will do this for your Twitter access credentials\n",
    "and when we come back, it loads it\n",
    "back into Twitter as an object."
   ]
  },
  {
   "cell_type": "code",
   "execution_count": 36,
   "metadata": {},
   "outputs": [],
   "source": [
    "if not os.path.exists('secret_twitter_credentials.pkl'):\n",
    "    Twitter={}#creating object twitter to save access credentials\n",
    "    Twitter['Consumer Key'] = 'pupiHYsEGgi363iUyH3wsrgQL'\n",
    "    Twitter['Consumer Secret'] = '4zkm8MMgyAjP9MnHlA3naHdmctOsEs3Wf03DvNEe9wCojc2XEF'\n",
    "    Twitter['Access Token'] = '1092500612711882752-mIywgatuE9SK86DISdIVXJ9X3ccuMc'\n",
    "    Twitter['Access Token Secret'] = '9u7dT9mgYmNH5bqiYlkWfMuXV8dUD2vFVI6ldHOHtuQS8'\n",
    "    with open('secret_twitter_credentials.pkl','wb') as f:\n",
    "        pickle.dump(Twitter, f)\n",
    "else:\n",
    "    Twitter=pickle.load(open('secret_twitter_credentials.pkl','rb'))"
   ]
  },
  {
   "cell_type": "markdown",
   "metadata": {},
   "source": [
    "Okay, in the next code block,\n",
    "we'll use the Twitter object we started\n",
    "and we start working with the Twitter API\n",
    "to create a new object called authentication, or auth.\n",
    "Here we have our A-U-T-H, the auth.\n",
    "We will use this authentication to create\n",
    "a Twitter API object.\n",
    "So what we've done is, we called twitter.\n",
    "We imported twitter package in Python first.\n",
    "We called twitter and used the auth function\n",
    "to create the authentication object, or that class creation.\n",
    "And then we'll now use the Twitter API\n",
    "to use this authentication\n",
    "and create a Twitter API object."
   ]
  },
  {
   "cell_type": "code",
   "execution_count": 37,
   "metadata": {},
   "outputs": [
    {
     "name": "stdout",
     "output_type": "stream",
     "text": [
      "<twitter.api.Twitter object at 0x7f76841e97f0>\n"
     ]
    }
   ],
   "source": [
    "import twitter\n",
    "\n",
    "auth = twitter.oauth.OAuth(Twitter['Access Token'],\n",
    "                           Twitter['Access Token Secret'],\n",
    "                           Twitter['Consumer Key'],\n",
    "                           Twitter['Consumer Secret'])\n",
    "\n",
    "twitter_api = twitter.Twitter(auth=auth)\n",
    "\n",
    "#Nothing to see by displayng twitter_api except that it's now \n",
    "# a defined variable\n",
    "\n",
    "print(twitter_api)"
   ]
  },
  {
   "cell_type": "markdown",
   "metadata": {},
   "source": [
    "## Example 2. Retrieving trends"
   ]
  },
  {
   "cell_type": "markdown",
   "metadata": {},
   "source": [
    "Twitter identifies locations using the Yahoo! Where On Earth ID.\n",
    "\n",
    "The Yahoo! Where On Earth ID for the entire world is 1.\n",
    "See https://dev.twitter.com/docs/api/1.1/get/trends/place and\n",
    "http://developer.yahoo.com/geo/geoplanet/\n",
    "\n",
    "look at the BOSS placefinder here: https://developer.yahoo.com/boss/placefinder/\n",
    "\n",
    "Sitas paskutinis  linkas skirtas ieskot vietos ID numerio"
   ]
  },
  {
   "cell_type": "code",
   "execution_count": 38,
   "metadata": {},
   "outputs": [],
   "source": [
    "WORLD_WOE_ID = 1\n",
    "US_WOE_ID = 23424977\n",
    "LOCAL_WOE_ID=2487889\n",
    "#LTU_WOE_ID = 598544\n",
    "# KAUNAS_WOE_ID = 55848084"
   ]
  },
  {
   "cell_type": "markdown",
   "metadata": {},
   "source": [
    "Look for the WOEID for [san-diego](http://woeid.rosselliot.co.nz/lookup/san%20diego%20%20ca)\n",
    "\n",
    "You can change it to another location."
   ]
  },
  {
   "cell_type": "code",
   "execution_count": 39,
   "metadata": {},
   "outputs": [],
   "source": [
    "# Prefix ID with the underscore for query string parameterization.\n",
    "# Without the underscore, the twitter package appends the ID value\n",
    "# to the URL itself as a special case keyword argument.\n",
    "\n",
    "local_trends = twitter_api.trends.place(_id=LOCAL_WOE_ID)\n",
    "world_trends = twitter_api.trends.place(_id=WORLD_WOE_ID)\n",
    "us_trends = twitter_api.trends.place(_id=US_WOE_ID)\n",
    "#ltu_trends = twitter_api.trends.place(_id=LTU_WOE_ID)\n",
    "# kns_trends = twitter_api.trends.place(_id=KAUNAS_WOE_ID)"
   ]
  },
  {
   "cell_type": "code",
   "execution_count": 40,
   "metadata": {},
   "outputs": [],
   "source": [
    "#print(world_trends[:2])"
   ]
  },
  {
   "cell_type": "code",
   "execution_count": 41,
   "metadata": {},
   "outputs": [
    {
     "name": "stdout",
     "output_type": "stream",
     "text": [
      "<class 'twitter.api.TwitterListResponse'>\n"
     ]
    }
   ],
   "source": [
    "trends = world_trends\n",
    "print(type(trends))\n",
    "# print(list(trends[0].keys()))\n",
    "# print(trends[0]['trends'])"
   ]
  },
  {
   "cell_type": "markdown",
   "metadata": {},
   "source": [
    "## Example 3. Displaying API responses as pretty-printed JSON\n",
    "\n",
    "\n",
    "So in this line we are using the dumps function of JSON\n",
    "to create a better\n",
    "or more prettier version of the same output.\n",
    "Here we said the indentation format,\n",
    "we are saying indent every neve parenthesis\n",
    "or every neve level we would call in JSON\n",
    "with one character."
   ]
  },
  {
   "cell_type": "code",
   "execution_count": 42,
   "metadata": {
    "collapsed": true
   },
   "outputs": [
    {
     "name": "stdout",
     "output_type": "stream",
     "text": [
      "[\n {\n  \"trends\": [\n   {\n    \"name\": \"Wells Fargo\",\n    \"url\": \"http://twitter.com/search?q=%22Wells+Fargo%22\",\n    \"promoted_content\": null,\n    \"query\": \"%22Wells+Fargo%22\",\n    \"tweet_volume\": 17638\n   },\n   {\n    \"name\": \"#GreenNewDeal\",\n    \"url\": \"http://twitter.com/search?q=%23GreenNewDeal\",\n    \"promoted_content\": null,\n    \"query\": \"%23GreenNewDeal\",\n    \"tweet_volume\": 32162\n   },\n   {\n    \"name\": \"Green New Deal\",\n    \"url\": \"http://twitter.com/search?q=%22Green+New+Deal%22\",\n    \"promoted_content\": null,\n    \"query\": \"%22Green+New+Deal%22\",\n    \"tweet_volume\": 87177\n   },\n   {\n    \"name\": \"Mirotic\",\n    \"url\": \"http://twitter.com/search?q=Mirotic\",\n    \"promoted_content\": null,\n    \"query\": \"Mirotic\",\n    \"tweet_volume\": 27207\n   },\n   {\n    \"name\": \"#ThursdayThoughts\",\n    \"url\": \"http://twitter.com/search?q=%23ThursdayThoughts\",\n    \"promoted_content\": null,\n    \"query\": \"%23ThursdayThoughts\",\n    \"tweet_volume\": 102986\n   },\n   {\n    \"name\": \"Lavar Ball\",\n    \"url\": \"http://twitter.com/search?q=%22Lavar+Ball%22\",\n    \"promoted_content\": null,\n    \"query\": \"%22Lavar+Ball%22\",\n    \"tweet_volume\": 11946\n   },\n   {\n    \"name\": \"Realmuto\",\n    \"url\": \"http://twitter.com/search?q=Realmuto\",\n    \"promoted_content\": null,\n    \"query\": \"Realmuto\",\n    \"tweet_volume\": 11159\n   },\n   {\n    \"name\": \"The East\",\n    \"url\": \"http://twitter.com/search?q=%22The+East%22\",\n    \"promoted_content\": null,\n    \"query\": \"%22The+East%22\",\n    \"tweet_volume\": 22454\n   },\n   {\n    \"name\": \"Michelle Rodriguez\",\n    \"url\": \"http://twitter.com/search?q=%22Michelle+Rodriguez%22\",\n    \"promoted_content\": null,\n    \"query\": \"%22Michelle+Rodriguez%22\",\n    \"tweet_volume\": null\n   },\n   {\n    \"name\": \"#TheThingIMissMost\",\n    \"url\": \"http://twitter.com/search?q=%23TheThingIMissMost\",\n    \"promoted_content\": null,\n    \"query\": \"%23TheThingIMissMost\",\n    \"tweet_volume\": null\n   },\n   {\n    \"name\": \"Bucks\",\n    \"url\": \"http://twitter.com/search?q=Bucks\",\n    \"promoted_content\": null,\n    \"query\": \"Bucks\",\n    \"tweet_volume\": 66365\n   },\n   {\n    \"name\": \"#NBATradeDeadline\",\n    \"url\": \"http://twitter.com/search?q=%23NBATradeDeadline\",\n    \"promoted_content\": null,\n    \"query\": \"%23NBATradeDeadline\",\n    \"tweet_volume\": null\n   },\n   {\n    \"name\": \"Marc Gasol\",\n    \"url\": \"http://twitter.com/search?q=%22Marc+Gasol%22\",\n    \"promoted_content\": null,\n    \"query\": \"%22Marc+Gasol%22\",\n    \"tweet_volume\": 18308\n   },\n   {\n    \"name\": \"#EndItMovement\",\n    \"url\": \"http://twitter.com/search?q=%23EndItMovement\",\n    \"promoted_content\": null,\n    \"query\": \"%23EndItMovement\",\n    \"tweet_volume\": null\n   },\n   {\n    \"name\": \"William Barr\",\n    \"url\": \"http://twitter.com/search?q=%22William+Barr%22\",\n    \"promoted_content\": null,\n    \"query\": \"%22William+Barr%22\",\n    \"tweet_volume\": 12269\n   },\n   {\n    \"name\": \"James Ennis\",\n    \"url\": \"http://twitter.com/search?q=%22James+Ennis%22\",\n    \"promoted_content\": null,\n    \"query\": \"%22James+Ennis%22\",\n    \"tweet_volume\": null\n   },\n   {\n    \"name\": \"Eastern Conference\",\n    \"url\": \"http://twitter.com/search?q=%22Eastern+Conference%22\",\n    \"promoted_content\": null,\n    \"query\": \"%22Eastern+Conference%22\",\n    \"tweet_volume\": null\n   },\n   {\n    \"name\": \"J Dilla\",\n    \"url\": \"http://twitter.com/search?q=%22J+Dilla%22\",\n    \"promoted_content\": null,\n    \"query\": \"%22J+Dilla%22\",\n    \"tweet_volume\": null\n   },\n   {\n    \"name\": \"Stanley Johnson\",\n    \"url\": \"http://twitter.com/search?q=%22Stanley+Johnson%22\",\n    \"promoted_content\": null,\n    \"query\": \"%22Stanley+Johnson%22\",\n    \"tweet_volume\": null\n   },\n   {\n    \"name\": \"National Prayer Breakfast\",\n    \"url\": \"http://twitter.com/search?q=%22National+Prayer+Breakfast%22\",\n    \"promoted_content\": null,\n    \"query\": \"%22National+Prayer+Breakfast%22\",\n    \"tweet_volume\": 41418\n   },\n   {\n    \"name\": \"Pet Sematary\",\n    \"url\": \"http://twitter.com/search?q=%22Pet+Sematary%22\",\n    \"promoted_content\": null,\n    \"query\": \"%22Pet+Sematary%22\",\n    \"tweet_volume\": null\n   },\n   {\n    \"name\": \"Jon Horst\",\n    \"url\": \"http://twitter.com/search?q=%22Jon+Horst%22\",\n    \"promoted_content\": null,\n    \"query\": \"%22Jon+Horst%22\",\n    \"tweet_volume\": null\n   },\n   {\n    \"name\": \"Sixto\",\n    \"url\": \"http://twitter.com/search?q=Sixto\",\n    \"promoted_content\": null,\n    \"query\": \"Sixto\",\n    \"tweet_volume\": null\n   },\n   {\n    \"name\": \"Delon Wright\",\n    \"url\": \"http://twitter.com/search?q=%22Delon+Wright%22\",\n    \"promoted_content\": null,\n    \"query\": \"%22Delon+Wright%22\",\n    \"tweet_volume\": null\n   },\n   {\n    \"name\": \"iOS 12.1.4\",\n    \"url\": \"http://twitter.com/search?q=%22iOS+12.1.4%22\",\n    \"promoted_content\": null,\n    \"query\": \"%22iOS+12.1.4%22\",\n    \"tweet_volume\": null\n   },\n   {\n    \"name\": \"Senate Judiciary Committee\",\n    \"url\": \"http://twitter.com/search?q=%22Senate+Judiciary+Committee%22\",\n    \"promoted_content\": null,\n    \"query\": \"%22Senate+Judiciary+Committee%22\",\n    \"tweet_volume\": null\n   },\n   {\n    \"name\": \"Cindy McCain\",\n    \"url\": \"http://twitter.com/search?q=%22Cindy+McCain%22\",\n    \"promoted_content\": null,\n    \"query\": \"%22Cindy+McCain%22\",\n    \"tweet_volume\": 24739\n   },\n   {\n    \"name\": \"Google Fiber\",\n    \"url\": \"http://twitter.com/search?q=%22Google+Fiber%22\",\n    \"promoted_content\": null,\n    \"query\": \"%22Google+Fiber%22\",\n    \"tweet_volume\": null\n   },\n   {\n    \"name\": \"Gasol to Toronto\",\n    \"url\": \"http://twitter.com/search?q=%22Gasol+to+Toronto%22\",\n    \"promoted_content\": null,\n    \"query\": \"%22Gasol+to+Toronto%22\",\n    \"tweet_volume\": null\n   },\n   {\n    \"name\": \"Joy Behar\",\n    \"url\": \"http://twitter.com/search?q=%22Joy+Behar%22\",\n    \"promoted_content\": null,\n    \"query\": \"%22Joy+Behar%22\",\n    \"tweet_volume\": 29532\n   },\n   {\n    \"name\": \"Zack Britton\",\n    \"url\": \"http://twitter.com/search?q=%22Zack+Britton%22\",\n    \"promoted_content\": null,\n    \"query\": \"%22Zack+Britton%22\",\n    \"tweet_volume\": null\n   },\n   {\n    \"name\": \"Stauskas\",\n    \"url\": \"http://twitter.com/search?q=Stauskas\",\n    \"promoted_content\": null,\n    \"query\": \"Stauskas\",\n    \"tweet_volume\": 13228\n   },\n   {\n    \"name\": \"Jason Smith\",\n    \"url\": \"http://twitter.com/search?q=%22Jason+Smith%22\",\n    \"promoted_content\": null,\n    \"query\": \"%22Jason+Smith%22\",\n    \"tweet_volume\": null\n   },\n   {\n    \"name\": \"AIDS Awareness Day\",\n    \"url\": \"http://twitter.com/search?q=%22AIDS+Awareness+Day%22\",\n    \"promoted_content\": null,\n    \"query\": \"%22AIDS+Awareness+Day%22\",\n    \"tweet_volume\": null\n   },\n   {\n    \"name\": \"Niko\",\n    \"url\": \"http://twitter.com/search?q=Niko\",\n    \"promoted_content\": null,\n    \"query\": \"Niko\",\n    \"tweet_volume\": 19215\n   },\n   {\n    \"name\": \"Woody Allen\",\n    \"url\": \"http://twitter.com/search?q=%22Woody+Allen%22\",\n    \"promoted_content\": null,\n    \"query\": \"%22Woody+Allen%22\",\n    \"tweet_volume\": null\n   },\n   {\n    \"name\": \"#AWomanHasTheRight\",\n    \"url\": \"http://twitter.com/search?q=%23AWomanHasTheRight\",\n    \"promoted_content\": null,\n    \"query\": \"%23AWomanHasTheRight\",\n    \"tweet_volume\": null\n   },\n   {\n    \"name\": \"#ThursdayMotivation\",\n    \"url\": \"http://twitter.com/search?q=%23ThursdayMotivation\",\n    \"promoted_content\": null,\n    \"query\": \"%23ThursdayMotivation\",\n    \"tweet_volume\": 48117\n   },\n   {\n    \"name\": \"#InternationalClashDay\",\n    \"url\": \"http://twitter.com/search?q=%23InternationalClashDay\",\n    \"promoted_content\": null,\n    \"query\": \"%23InternationalClashDay\",\n    \"tweet_volume\": null\n   },\n   {\n    \"name\": \"#DillaDay\",\n    \"url\": \"http://twitter.com/search?q=%23DillaDay\",\n    \"promoted_content\": null,\n    \"query\": \"%23DillaDay\",\n    \"tweet_volume\": null\n   },\n   {\n    \"name\": \"#NBHAAD\",\n    \"url\": \"http://twitter.com/search?q=%23NBHAAD\",\n    \"promoted_content\": null,\n    \"query\": \"%23NBHAAD\",\n    \"tweet_volume\": null\n   },\n   {\n    \"name\": \"#SPN300\",\n    \"url\": \"http://twitter.com/search?q=%23SPN300\",\n    \"promoted_content\": null,\n    \"query\": \"%23SPN300\",\n    \"tweet_volume\": 23404\n   },\n   {\n    \"name\": \"#thankunextTONIGHT\",\n    \"url\": \"http://twitter.com/search?q=%23thankunextTONIGHT\",\n    \"promoted_content\": null,\n    \"query\": \"%23thankunextTONIGHT\",\n    \"tweet_volume\": null\n   },\n   {\n    \"name\": \"#WhoDoYouLove\",\n    \"url\": \"http://twitter.com/search?q=%23WhoDoYouLove\",\n    \"promoted_content\": null,\n    \"query\": \"%23WhoDoYouLove\",\n    \"tweet_volume\": 42031\n   },\n   {\n    \"name\": \"#SONA2019\",\n    \"url\": \"http://twitter.com/search?q=%23SONA2019\",\n    \"promoted_content\": null,\n    \"query\": \"%23SONA2019\",\n    \"tweet_volume\": 70511\n   },\n   {\n    \"name\": \"#WellsFargodown\",\n    \"url\": \"http://twitter.com/search?q=%23WellsFargodown\",\n    \"promoted_content\": null,\n    \"query\": \"%23WellsFargodown\",\n    \"tweet_volume\": null\n   },\n   {\n    \"name\": \"#ThingsIWouldReturn\",\n    \"url\": \"http://twitter.com/search?q=%23ThingsIWouldReturn\",\n    \"promoted_content\": null,\n    \"query\": \"%23ThingsIWouldReturn\",\n    \"tweet_volume\": null\n   },\n   {\n    \"name\": \"#JDilla\",\n    \"url\": \"http://twitter.com/search?q=%23JDilla\",\n    \"promoted_content\": null,\n    \"query\": \"%23JDilla\",\n    \"tweet_volume\": null\n   },\n   {\n    \"name\": \"#NationalPeriodicTableDay\",\n    \"url\": \"http://twitter.com/search?q=%23NationalPeriodicTableDay\",\n    \"promoted_content\": null,\n    \"query\": \"%23NationalPeriodicTableDay\",\n    \"tweet_volume\": null\n   },\n   {\n    \"name\": \"#RunninVideo\",\n    \"url\": \"http://twitter.com/search?q=%23RunninVideo\",\n    \"promoted_content\": null,\n    \"query\": \"%23RunninVideo\",\n    \"tweet_volume\": null\n   }\n  ],\n  \"as_of\": \"2019-02-07T19:07:33Z\",\n  \"created_at\": \"2019-02-07T19:03:17Z\",\n  \"locations\": [\n   {\n    \"name\": \"United States\",\n    \"woeid\": 23424977\n   }\n  ]\n }\n]\n"
     ]
    }
   ],
   "source": [
    "import json\n",
    "\n",
    "print((json.dumps(us_trends[:2], indent=1)))"
   ]
  },
  {
   "cell_type": "markdown",
   "metadata": {},
   "source": [
    "## Example 4. Computing the intersection of two sets of trends"
   ]
  },
  {
   "cell_type": "markdown",
   "metadata": {},
   "source": []
  },
  {
   "cell_type": "code",
   "execution_count": 43,
   "metadata": {},
   "outputs": [],
   "source": [
    "trends_set = {}\n",
    "trends_set['world'] = set([trend['name']\n",
    "                           for trend in world_trends[0]['trends']])\n",
    "\n",
    "trends_set['us'] = set([trend['name']\n",
    "                        for trend in us_trends[0]['trends']])\n",
    "\n",
    "trends_set['san diego'] = set([trend['name']\n",
    "                               for trend in local_trends[0]['trends']])\n"
   ]
  },
  {
   "cell_type": "markdown",
   "metadata": {},
   "source": [
    "doing is\n",
    "we are first creating a four loop\n",
    "that joins all the trends for a particular location\n",
    "and prints them in pretty format."
   ]
  },
  {
   "cell_type": "code",
   "execution_count": 44,
   "metadata": {
    "collapsed": true
   },
   "outputs": [
    {
     "name": "stdout",
     "output_type": "stream",
     "text": [
      "('----------', 'world')\nRealmuto,#KumrularGibi,Kevin Roldán,Falz,CanlıCasino Hilbette,#VenezuelaFirmaPorLaPaz,Bucks,#JusticeForRapeInNigeria,#FelizJueves,#SözleşmeliMEMURSENsiz,#ModiParliamentSpeech,#TheThingIMissMost,Marc Gasol,#AdanalıKızlarÇokGüzeldir,#HappyINDay,#7Feb,#Endüstrimüh500atama,#EyyamınKralıTurkHakemleri,#yollagitsin,#SnRTEMahkumMüjdeBekliyor,Afrikaans,#pezeberkesorum,#CBdanÖğrYeni40binAtama,#YoNoVoy,mobilbahis3000tl bonus,#HBDSONGofTheYear,Wells Fargo,Lavar Ball,#EğitimdeDirilişAkçakale,#وش_يعجبك_بالرياض,#GençlerBostancıya,Dilovasına ErcanDalkılıç,#annem,#ModiUnstoppable,#Francia,Lucão,#GreenNewDeal,Michelle Rodriguez,#HaineBozkurtMazlumaRabia,Green New Deal,#SONA2019,#SONA19,#CuentaParaSueldosC5N,#thankunextTONIGHT,Mirotic,Ciro Gomes,#BaşkanİnşaatMühATAMABekliyor,#الاهلي_الحزم,#TekYürek,#NBATradeDeadline\n('----------', 'us')\nRealmuto,Jason Smith,The East,Stanley Johnson,#AWomanHasTheRight,William Barr,Woody Allen,iOS 12.1.4,Bucks,Gasol to Toronto,#ThursdayThoughts,#SPN300,Cindy McCain,#TheThingIMissMost,Marc Gasol,#WellsFargodown,Pet Sematary,#ThingsIWouldReturn,#JDilla,#DillaDay,#NationalPeriodicTableDay,Wells Fargo,Lavar Ball,Joy Behar,Zack Britton,#EndItMovement,Delon Wright,James Ennis,Stauskas,AIDS Awareness Day,#GreenNewDeal,Eastern Conference,Michelle Rodriguez,Green New Deal,#SONA2019,National Prayer Breakfast,#RunninVideo,#thankunextTONIGHT,#InternationalClashDay,Mirotic,Google Fiber,#WhoDoYouLove,J Dilla,Sixto,Niko,#NBHAAD,Senate Judiciary Committee,#ThursdayMotivation,Jon Horst,#NBATradeDeadline\n('----------', 'san diego')\nRealmuto,#SOTU,The East,Stanley Johnson,President Trump,William Barr,#AWomanHasTheRight,iOS 12.1.4,Bucks,Gasol to Toronto,#ThursdayThoughts,#SPN300,Cindy McCain,Valentine's Day,Marc Gasol,#TheThingIMissMost,#WellsFargodown,Pet Sematary,#ThingsIWouldReturn,#JDilla,#DillaDay,#NationalPeriodicTableDay,#TheMaskedSinger,Wells Fargo,State of the Union,Lavar Ball,Joy Behar,Delon Wright,#EndItMovement,James Ennis,Eastern Conference,#GreenNewDeal,Michelle Rodriguez,#MakeANewFriendIn4Words,Green New Deal,#SONA2019,National Prayer Breakfast,#RunninVideo,#thankunextTONIGHT,#InternationalClashDay,Mirotic,Google Fiber,#WhoDoYouLove,J Dilla,Sixto,#NBHAAD,Senate Judiciary Committee,#ThursdayMotivation,Jon Horst,#NBATradeDeadline\n"
     ]
    }
   ],
   "source": [
    "for loc in ['world', 'us', 'san diego']:\n",
    "    print(('-'*10, loc))\n",
    "    print((','.join(trends_set[loc])))"
   ]
  },
  {
   "cell_type": "code",
   "execution_count": 45,
   "metadata": {
    "collapsed": true
   },
   "outputs": [
    {
     "name": "stdout",
     "output_type": "stream",
     "text": [
      "('==========', 'intersection of world and us')\n{'Realmuto', '#GreenNewDeal', 'Michelle Rodriguez', 'Green New Deal', '#SONA2019', 'Wells Fargo', '#thankunextTONIGHT', 'Bucks', 'Lavar Ball', 'Mirotic', '#NBATradeDeadline', '#TheThingIMissMost', 'Marc Gasol'}\n('==========', 'intersection of us and  san-diego')\n{'Realmuto', 'The East', 'Stanley Johnson', '#AWomanHasTheRight', 'William Barr', 'iOS 12.1.4', 'Bucks', 'Gasol to Toronto', '#ThursdayThoughts', '#SPN300', 'Cindy McCain', '#TheThingIMissMost', 'Marc Gasol', '#WellsFargodown', 'Pet Sematary', '#ThingsIWouldReturn', '#JDilla', '#DillaDay', '#NationalPeriodicTableDay', 'Wells Fargo', 'Lavar Ball', 'Joy Behar', '#EndItMovement', 'Delon Wright', 'James Ennis', '#GreenNewDeal', 'Eastern Conference', 'Michelle Rodriguez', 'Green New Deal', '#SONA2019', 'National Prayer Breakfast', '#RunninVideo', '#thankunextTONIGHT', '#InternationalClashDay', 'Mirotic', 'Google Fiber', '#WhoDoYouLove', 'J Dilla', 'Sixto', '#NBHAAD', 'Senate Judiciary Committee', '#ThursdayMotivation', 'Jon Horst', '#NBATradeDeadline'}\n"
     ]
    }
   ],
   "source": [
    "print(('='*10, 'intersection of world and us'))\n",
    "print((trends_set['world'].intersection(trends_set['us'])))\n",
    "\n",
    "print(('='*10, 'intersection of us and  san-diego'))\n",
    "print((trends_set['san diego'].intersection(trends_set['us'])))"
   ]
  },
  {
   "cell_type": "markdown",
   "metadata": {},
   "source": [
    "## Example 5. Collecting search results\n",
    "\n",
    "Set the variable `q` to a trending topic, \n",
    "or anything else for that matter. The example query below\n",
    "was a trending topic when this content was being developed\n",
    "and is used throughout the remainder of this chapter"
   ]
  },
  {
   "cell_type": "code",
   "execution_count": 46,
   "metadata": {},
   "outputs": [],
   "source": [
    "q = '#PetSematary'\n",
    "number = 100\n",
    "# See https://dev.twitter.com/docs/api/1.1/get/search/tweets\n",
    "\n",
    "search_results = twitter_api.search.tweets(q=q, count=number)\n",
    "statuses = search_results['statuses']"
   ]
  },
  {
   "cell_type": "code",
   "execution_count": 47,
   "metadata": {
    "collapsed": false
   },
   "outputs": [
    {
     "name": "stdout",
     "output_type": "stream",
     "text": [
      "99\n"
     ]
    }
   ],
   "source": [
    "print(len(statuses))\n",
    "#print(statuses)"
   ]
  },
  {
   "cell_type": "markdown",
   "metadata": {},
   "source": [
    "Twitter often returns duplicate results, we can filter them out checking for duplicate texts:"
   ]
  },
  {
   "cell_type": "code",
   "execution_count": 48,
   "metadata": {},
   "outputs": [],
   "source": [
    "all_text = []\n",
    "filtered_statuses = []\n",
    "for s in statuses:\n",
    "    if not s['text'] in all_text:\n",
    "        filtered_statuses.append(s)\n",
    "        all_text.append(s['text'])\n",
    "statuses = filtered_statuses"
   ]
  },
  {
   "cell_type": "markdown",
   "metadata": {},
   "source": [
    "And if the same text of the tweet,\n",
    "which is the tweet message,\n",
    "is not in already in that all_text\n",
    "that we are keeping track of,\n",
    "we are going to append that to filtered_statuses.\n",
    "And in the end when we are done with this for loop,\n",
    "we'll assign this filtered_statuses to statuses\n",
    "that object we had as the response from Twitter before."
   ]
  },
  {
   "cell_type": "code",
   "execution_count": 49,
   "metadata": {},
   "outputs": [
    {
     "name": "stdout",
     "output_type": "stream",
     "text": [
      "36\n"
     ]
    }
   ],
   "source": [
    "print(len(statuses))"
   ]
  },
  {
   "cell_type": "code",
   "execution_count": 50,
   "metadata": {
    "collapsed": true
   },
   "outputs": [
    {
     "data": {
      "text/plain": [
       "[\"RT @petsematarymov: They don't come back the same. Based on @StephenKing’s terrifying novel, watch the official trailer for #PetSematary. I…\",\n \"RT @petsematarymov: They don't come back the same. Based on @StephenKing’s terrifying novel, watch the official trailer for #PetSematary. I…\",\n \"RT @petsematarymov: They don't come back the same. Based on @StephenKing’s terrifying novel, watch the official trailer for #PetSematary. I…\",\n 'RT @petsematarymov: Sometimes dead is better. Check out the official poster for #PetSematary. In theatres April 5. https://t.co/K8UiftIwZp',\n \"RT @petsematarymov: They don't come back the same. Based on @StephenKing’s terrifying novel, watch the official trailer for #PetSematary. I…\",\n \"RT @petsematarymov: They don't come back the same. Based on @StephenKing’s terrifying novel, watch the official trailer for #PetSematary. I…\",\n 'Have mixed feelings about the switch to Ellie from Gage in the new #PetSematary - my guess is so she can do more fu… https://t.co/0J0rk3MhA2',\n 'RT @petsematarymov: Sometimes dead is better. Check out the official poster for #PetSematary. In theatres April 5. https://t.co/K8UiftIwZp',\n '@GSUniverse #PetSematary https://t.co/Qvx0O84CTx',\n \"RT @Drumdums: EVERYONE...do NOT watch the new #PetSematary trailer. There is a MAJOR spoiler. I'm still excited, but boy do I wish I avoide…\",\n \"RT @petsematarymov: They don't come back the same. Based on @StephenKing’s terrifying novel, watch the official trailer for #PetSematary. I…\",\n 'RT @ItsMeDeaner: Dayum #PetSematary https://t.co/I4gQKRQ451',\n \"RT @petsematarymov: They don't come back the same. Based on @StephenKing’s terrifying novel, watch the official trailer for #PetSematary. I…\",\n \"RT @petsematarymov: They don't come back the same. Based on @StephenKing’s terrifying novel, watch the official trailer for #PetSematary. I…\",\n 'I’m a bit behind on new horror movie releases but happy to see Pet Sematary is getting 30th Anniversary 4K/Blu-ray… https://t.co/Mihd2WCWYw',\n \"RT @petsematarymov: They don't come back the same. Based on @StephenKing’s terrifying novel, watch the official trailer for #PetSematary. I…\",\n \"RT @petsematarymov: They don't come back the same. Based on @StephenKing’s terrifying novel, watch the official trailer for #PetSematary. I…\",\n \"RT @petsematarymov: They don't come back the same. Based on @StephenKing’s terrifying novel, watch the official trailer for #PetSematary. I…\",\n \"RT @petsematarymov: They don't come back the same. Based on @StephenKing’s terrifying novel, watch the official trailer for #PetSematary. I…\",\n \"RT @petsematarymov: They don't come back the same. Based on @StephenKing’s terrifying novel, watch the official trailer for #PetSematary. I…\",\n 'Creepy New Trailer For #PetSematary Warns Sometimes Dead Is Better  https://t.co/1ZX0BEq9L7  #Horror https://t.co/L4uxU16uGn',\n \"RT @petsematarymov: They don't come back the same. Based on @StephenKing’s terrifying novel, watch the official trailer for #PetSematary. I…\",\n \"RT @petsematarymov: They don't come back the same. Based on @StephenKing’s terrifying novel, watch the official trailer for #PetSematary. I…\",\n \"RT @petsematarymov: They don't come back the same. Based on @StephenKing’s terrifying novel, watch the official trailer for #PetSematary. I…\",\n \"RT @petsematarymov: They don't come back the same. Based on @StephenKing’s terrifying novel, watch the official trailer for #PetSematary. I…\",\n \"RT @petsematarymov: They don't come back the same. Based on @StephenKing’s terrifying novel, watch the official trailer for #PetSematary. I…\",\n 'RT @RottenTomatoes: Sometimes dead is better. #PetSematary comes to theaters April 5th. https://t.co/0SxIffyG78',\n 'RT @RottenTomatoes: Sometimes dead is better. #PetSematary comes to theaters April 5th. https://t.co/0SxIffyG78',\n \"RT @petsematarymov: They don't come back the same. Based on @StephenKing’s terrifying novel, watch the official trailer for #PetSematary. I…\",\n 'New official poster for the remake of PET SEMATARY (CEMITÉRIO MALDITO).\\n#PetSematary #movieposter #remake #horror… https://t.co/e5YY9cbqa2',\n 'RT @BrendanJCassidy: As a MASSIVE fan of Stephen King’s novel #PetSematary:\\n\\nReaction to first trailer = “This looks genuinely good, harrow…',\n 'El avance de #PetSematary de #StephenKing aterrorizará tu día. https://t.co/J9PZXb7x0S https://t.co/cLDqxRcgTp',\n \"RT @petsematarymov: They don't come back the same. Based on @StephenKing’s terrifying novel, watch the official trailer for #PetSematary. I…\",\n \"RT @petsematarymov: They don't come back the same. Based on @StephenKing’s terrifying novel, watch the official trailer for #PetSematary. I…\",\n 'added new trailers for:\\n\\nPet Sematary\\nSaint Judy\\nThe Sun is Also a Star\\n\\nhttps://t.co/yC94IzCXTo\\n\\n#PetSematary… https://t.co/gmEIN16YHL',\n \"RT @petsematarymov: They don't come back the same. Based on @StephenKing’s terrifying novel, watch the official trailer for #PetSematary. I…\",\n '#PetSematary trailer - rubbish',\n \"RT @petsematarymov: They don't come back the same. Based on @StephenKing’s terrifying novel, watch the official trailer for #PetSematary. I…\",\n 'RT @RottenTomatoes: Sometimes dead is better. #PetSematary comes to theaters April 5th. https://t.co/0SxIffyG78',\n \"RT @petsematarymov: They don't come back the same. Based on @StephenKing’s terrifying novel, watch the official trailer for #PetSematary. I…\",\n \"RT @petsematarymov: They don't come back the same. Based on @StephenKing’s terrifying novel, watch the official trailer for #PetSematary. I…\",\n \"RT @petsematarymov: They don't come back the same. Based on @StephenKing’s terrifying novel, watch the official trailer for #PetSematary. I…\",\n \"RT @petsematarymov: They don't come back the same. Based on @StephenKing’s terrifying novel, watch the official trailer for #PetSematary. I…\",\n \"RT @petsematarymov: They don't come back the same. Based on @StephenKing’s terrifying novel, watch the official trailer for #PetSematary. I…\",\n \"RT @petsematarymov: They don't come back the same. Based on @StephenKing’s terrifying novel, watch the official trailer for #PetSematary. I…\",\n \"RT @petsematarymov: They don't come back the same. Based on @StephenKing’s terrifying novel, watch the official trailer for #PetSematary. I…\",\n \"RT @petsematarymov: They don't come back the same. Based on @StephenKing’s terrifying novel, watch the official trailer for #PetSematary. I…\",\n 'RT @ChrisThomasson7: (PET SEMATARY SPOILER)\\n\\n💯 % disagree with this premise. What made the novel so terrifying was that a completely innoce…',\n 'RT @adcomicscity: Quien verá este remake de 1989?...\\n#StephenKing #PetSematary #CementerioDeAnimales aquí en #Mexico se conoció como Cement…',\n 'RT @NerdNationN2: New #PetSematary trailer reveals a huge plot twist. I would prefer to have been surprised by it! Now, I kind of feel like…',\n \"RT @petsematarymov: They don't come back the same. Based on @StephenKing’s terrifying novel, watch the official trailer for #PetSematary. I…\",\n \"RT @petsematarymov: They don't come back the same. Based on @StephenKing’s terrifying novel, watch the official trailer for #PetSematary. I…\",\n 'Basada en la terrorífica novela de @StephenKing tráiler oficial de #PetSematary\\n\\n#cine #Noticias https://t.co/nZoOlT9dgs',\n \"RT @petsematarymov: They don't come back the same. Based on @StephenKing’s terrifying novel, watch the official trailer for #PetSematary. I…\",\n \"RT @petsematarymov: They don't come back the same. Based on @StephenKing’s terrifying novel, watch the official trailer for #PetSematary. I…\",\n \"RT @petsematarymov: They don't come back the same. Based on @StephenKing’s terrifying novel, watch the official trailer for #PetSematary. I…\",\n 'RT @petsematarymov: Sometimes dead is better. Check out the official poster for #PetSematary. In theatres April 5. https://t.co/K8UiftIwZp',\n \"RT @petsematarymov: They don't come back the same. Based on @StephenKing’s terrifying novel, watch the official trailer for #PetSematary. I…\",\n 'RT @GSUniverse: The second Pet Sematary trailer has arrived! #PetSematary https://t.co/oOaLVwv6jJ',\n \"RT @petsematarymov: They don't come back the same. Based on @StephenKing’s terrifying novel, watch the official trailer for #PetSematary. I…\",\n '\"Sometimes Dead is Better.\" New trailer for Pet Sematary 2019 is out.  https://t.co/YeDiJvsexL #PetSematary',\n \"RT @petsematarymov: They don't come back the same. Based on @StephenKing’s terrifying novel, watch the official trailer for #PetSematary. I…\",\n \"RT @petsematarymov: They don't come back the same. Based on @StephenKing’s terrifying novel, watch the official trailer for #PetSematary. I…\",\n \"FYI: I'm not sure why I want to make this distinction, but my background is from The Wicker Man, not the #PetSematary trailer.\",\n 'Yes!!!! #PetSematary \\nhttps://t.co/baQ2ZoElUP',\n \"RT @petsematarymov: They don't come back the same. Based on @StephenKing’s terrifying novel, watch the official trailer for #PetSematary. I…\",\n \"RT @petsematarymov: They don't come back the same. Based on @StephenKing’s terrifying novel, watch the official trailer for #PetSematary. I…\",\n 'Quien verá este remake de 1989?...\\n#StephenKing #PetSematary #CementerioDeAnimales aquí en #Mexico se conoció como… https://t.co/6GRkPWfRhp',\n 'Every single one of these photos from #PetSematary will send a chill down your spine. https://t.co/ekGXhxiCx0',\n \"RT @petsematarymov: They don't come back the same. Based on @StephenKing’s terrifying novel, watch the official trailer for #PetSematary. I…\",\n '#PetSematary Yo sólo espero revivir estas grandes historias del maestro @StephenKing #IT #Misery',\n '[WEB] El nuevo tráiler de #PetSematary viene intenso 📲 https://t.co/675GIMDZnA https://t.co/Bs3XnwQdnR',\n \"RT @petsematarymov: They don't come back the same. Based on @StephenKing’s terrifying novel, watch the official trailer for #PetSematary. I…\",\n 'RT @altapeli: A veces es mejor seguir muerto. Mirá el nuevo trailer de #CementerioDeAnimales #PetSematary https://t.co/cB2DUpZlXg',\n \"RT @petsematarymov: They don't come back the same. Based on @StephenKing’s terrifying novel, watch the official trailer for #PetSematary. I…\",\n \"RT @petsematarymov: They don't come back the same. Based on @StephenKing’s terrifying novel, watch the official trailer for #PetSematary. I…\",\n 'Nuevo #póster y #tráiler de #CementerioDeAnimales (@petsematarymov / @paramount_spain):\\nhttps://t.co/er729HyKe2… https://t.co/KpUEi6xf80',\n \"RT @petsematarymov: They don't come back the same. Based on @StephenKing’s terrifying novel, watch the official trailer for #PetSematary. I…\",\n \"RT @petsematarymov: They don't come back the same. Based on @StephenKing’s terrifying novel, watch the official trailer for #PetSematary. I…\",\n 'RT @RottenTomatoes: Sometimes dead is better. #PetSematary comes to theaters April 5th. https://t.co/0SxIffyG78',\n \"RT @petsematarymov: They don't come back the same. Based on @StephenKing’s terrifying novel, watch the official trailer for #PetSematary. I…\",\n \"RT @RottenTomatoes: They don't come back the same... Watch the new trailer for Stephen King's #PetSematary https://t.co/zr1XTDIB6L\",\n 'RT @RottenTomatoes: Sometimes dead is better. #PetSematary comes to theaters April 5th. https://t.co/0SxIffyG78',\n \"RT @petsematarymov: They don't come back the same. Based on @StephenKing’s terrifying novel, watch the official trailer for #PetSematary. I…\",\n \"The #PetSematary trailer had one big reveal: Gage doesn't die. \\n\\nThe directors reveal why they decided to switch up… https://t.co/DRUR7MJfL7\",\n 'RT @atomtickets: New poster for #PetSematary, based on the seminal horror novel by Stephen King! https://t.co/QdSpl0aGuP',\n \"RT @petsematarymov: They don't come back the same. Based on @StephenKing’s terrifying novel, watch the official trailer for #PetSematary. I…\",\n 'RT @altapeli: A veces es mejor seguir muerto. Mirá el nuevo trailer de #CementerioDeAnimales #PetSematary https://t.co/cB2DUpZlXg',\n \"RT @petsematarymov: They don't come back the same. Based on @StephenKing’s terrifying novel, watch the official trailer for #PetSematary. I…\",\n \"RT @petsematarymov: They don't come back the same. Based on @StephenKing’s terrifying novel, watch the official trailer for #PetSematary. I…\",\n \"RT @petsematarymov: They don't come back the same. Based on @StephenKing’s terrifying novel, watch the official trailer for #PetSematary. I…\",\n \"RT @petsematarymov: They don't come back the same. Based on @StephenKing’s terrifying novel, watch the official trailer for #PetSematary. I…\",\n 'RT @petsematarymov: @StephenKing You’ve been warned by the King himself. #PetSematary https://t.co/hjPEnFt16q',\n 'RT @12nighthorror: NEW #HORRORTRAILER ALERT!\\n🚨🚨🚨🚨🚨🚨\\nCOME WATCH THE NEWEST #HORROR PREVIEW FOR #PetSematary #PetSematary2019 TRAILER 2!\\nhttp…',\n \"RT @petsematarymov: They don't come back the same. Based on @StephenKing’s terrifying novel, watch the official trailer for #PetSematary. I…\",\n 'This is what I thought about the #PetSematary Trailer 😠😫 #childhoodruined https://t.co/hH28oiufKI',\n \"Pet Sematary remake looks more like The Wicker Man Sematary.... 😕 \\nNot impressed with the changes and sorry, it's n… https://t.co/QdtvPf2c49\",\n \"AAAAAH !!!!\\nIT'S FOR ME !!!!!! 😱😀\\nI LOVE THIS MOVIE !!!!\\n#PetSematary \\n#April \\n@StephenKing https://t.co/X1AxMCS5Ux\",\n \"RT @petsematarymov: They don't come back the same. Based on @StephenKing’s terrifying novel, watch the official trailer for #PetSematary. I…\"]"
      ]
     },
     "execution_count": 50,
     "metadata": {},
     "output_type": "execute_result"
    }
   ],
   "source": [
    "[s['text'] for s in search_results['statuses']]"
   ]
  },
  {
   "cell_type": "code",
   "execution_count": 51,
   "metadata": {
    "collapsed": true
   },
   "outputs": [
    {
     "name": "stdout",
     "output_type": "stream",
     "text": [
      "{\n \"created_at\": \"Thu Feb 07 19:07:10 +0000 2019\",\n \"id\": 1093586989138493443,\n \"id_str\": \"1093586989138493443\",\n \"text\": \"RT @petsematarymov: They don't come back the same. Based on @StephenKing\\u2019s terrifying novel, watch the official trailer for #PetSematary. I\\u2026\",\n \"truncated\": false,\n \"entities\": {\n  \"hashtags\": [\n   {\n    \"text\": \"PetSematary\",\n    \"indices\": [\n     124,\n     136\n    ]\n   }\n  ],\n  \"symbols\": [],\n  \"user_mentions\": [\n   {\n    \"screen_name\": \"petsematarymov\",\n    \"name\": \"Pet Sematary\",\n    \"id\": 941122464259518464,\n    \"id_str\": \"941122464259518464\",\n    \"indices\": [\n     3,\n     18\n    ]\n   },\n   {\n    \"screen_name\": \"StephenKing\",\n    \"name\": \"Stephen King\",\n    \"id\": 2233154425,\n    \"id_str\": \"2233154425\",\n    \"indices\": [\n     60,\n     72\n    ]\n   }\n  ],\n  \"urls\": []\n },\n \"metadata\": {\n  \"iso_language_code\": \"en\",\n  \"result_type\": \"recent\"\n },\n \"source\": \"<a href=\\\"http://twitter.com/download/iphone\\\" rel=\\\"nofollow\\\">Twitter for iPhone</a>\",\n \"in_reply_to_status_id\": null,\n \"in_reply_to_status_id_str\": null,\n \"in_reply_to_user_id\": null,\n \"in_reply_to_user_id_str\": null,\n \"in_reply_to_screen_name\": null,\n \"user\": {\n  \"id\": 923076937249120256,\n  \"id_str\": \"923076937249120256\",\n  \"name\": \"s\\u1d00\\u1d0ds\\u01eb\\u1d1c\\u1d00\\u0274\\u1d1b\\u1d04\\u029c \\u263e\",\n  \"screen_name\": \"midwestbaddie\",\n  \"location\": \"\\ud835\\udd9a\\u01dd\\u0287\\u0287\\u0131\\u026f \\u0279\\u01dd\\ud835\\udd95\\u0279\\ud835\\udd93\\u026f\",\n  \"description\": \"Sam | 24 | IG- midwestnihilist | horror | mue | libra\\u263c | virgo\\u263e | cancer\\u2191 | MKS Angel \\u2728\",\n  \"url\": \"https://t.co/BMTrQDi41Y\",\n  \"entities\": {\n   \"url\": {\n    \"urls\": [\n     {\n      \"url\": \"https://t.co/BMTrQDi41Y\",\n      \"expanded_url\": \"http://midwestnihilist.tumblr.com\",\n      \"display_url\": \"midwestnihilist.tumblr.com\",\n      \"indices\": [\n       0,\n       23\n      ]\n     }\n    ]\n   },\n   \"description\": {\n    \"urls\": []\n   }\n  },\n  \"protected\": false,\n  \"followers_count\": 197,\n  \"friends_count\": 688,\n  \"listed_count\": 0,\n  \"created_at\": \"Wed Oct 25 06:41:06 +0000 2017\",\n  \"favourites_count\": 2456,\n  \"utc_offset\": null,\n  \"time_zone\": null,\n  \"geo_enabled\": false,\n  \"verified\": false,\n  \"statuses_count\": 862,\n  \"lang\": \"en\",\n  \"contributors_enabled\": false,\n  \"is_translator\": false,\n  \"is_translation_enabled\": false,\n  \"profile_background_color\": \"000000\",\n  \"profile_background_image_url\": \"http://abs.twimg.com/images/themes/theme1/bg.png\",\n  \"profile_background_image_url_https\": \"https://abs.twimg.com/images/themes/theme1/bg.png\",\n  \"profile_background_tile\": false,\n  \"profile_image_url\": \"http://pbs.twimg.com/profile_images/1083603656870690816/QVXu0eMd_normal.jpg\",\n  \"profile_image_url_https\": \"https://pbs.twimg.com/profile_images/1083603656870690816/QVXu0eMd_normal.jpg\",\n  \"profile_banner_url\": \"https://pbs.twimg.com/profile_banners/923076937249120256/1549437222\",\n  \"profile_link_color\": \"ABB8C2\",\n  \"profile_sidebar_border_color\": \"000000\",\n  \"profile_sidebar_fill_color\": \"000000\",\n  \"profile_text_color\": \"000000\",\n  \"profile_use_background_image\": false,\n  \"has_extended_profile\": true,\n  \"default_profile\": false,\n  \"default_profile_image\": false,\n  \"following\": false,\n  \"follow_request_sent\": false,\n  \"notifications\": false,\n  \"translator_type\": \"none\"\n },\n \"geo\": null,\n \"coordinates\": null,\n \"place\": null,\n \"contributors\": null,\n \"retweeted_status\": {\n  \"created_at\": \"Thu Feb 07 14:01:00 +0000 2019\",\n  \"id\": 1093509938670841856,\n  \"id_str\": \"1093509938670841856\",\n  \"text\": \"They don't come back the same. Based on @StephenKing\\u2019s terrifying novel, watch the official trailer for\\u2026 https://t.co/WysOZfyqJj\",\n  \"truncated\": true,\n  \"entities\": {\n   \"hashtags\": [],\n   \"symbols\": [],\n   \"user_mentions\": [\n    {\n     \"screen_name\": \"StephenKing\",\n     \"name\": \"Stephen King\",\n     \"id\": 2233154425,\n     \"id_str\": \"2233154425\",\n     \"indices\": [\n      40,\n      52\n     ]\n    }\n   ],\n   \"urls\": [\n    {\n     \"url\": \"https://t.co/WysOZfyqJj\",\n     \"expanded_url\": \"https://twitter.com/i/web/status/1093509938670841856\",\n     \"display_url\": \"twitter.com/i/web/status/1\\u2026\",\n     \"indices\": [\n      105,\n      128\n     ]\n    }\n   ]\n  },\n  \"metadata\": {\n   \"iso_language_code\": \"en\",\n   \"result_type\": \"recent\"\n  },\n  \"source\": \"<a href=\\\"https://studio.twitter.com\\\" rel=\\\"nofollow\\\">Twitter Media Studio</a>\",\n  \"in_reply_to_status_id\": null,\n  \"in_reply_to_status_id_str\": null,\n  \"in_reply_to_user_id\": null,\n  \"in_reply_to_user_id_str\": null,\n  \"in_reply_to_screen_name\": null,\n  \"user\": {\n   \"id\": 941122464259518464,\n   \"id_str\": \"941122464259518464\",\n   \"name\": \"Pet Sematary\",\n   \"screen_name\": \"petsematarymov\",\n   \"location\": \"\",\n   \"description\": \"Based on the seminal horror novel by Stephen King, Pet Sematary stars John Lithgow, Jason Clarke and Amy Seimetz. In theatres April 5.\",\n   \"url\": \"https://t.co/1Hwlx5NnDr\",\n   \"entities\": {\n    \"url\": {\n     \"urls\": [\n      {\n       \"url\": \"https://t.co/1Hwlx5NnDr\",\n       \"expanded_url\": \"https://www.youtube.com/watch?v=zK0LNzU2TQI\",\n       \"display_url\": \"youtube.com/watch?v=zK0LNz\\u2026\",\n       \"indices\": [\n        0,\n        23\n       ]\n      }\n     ]\n    },\n    \"description\": {\n     \"urls\": []\n    }\n   },\n   \"protected\": false,\n   \"followers_count\": 4008,\n   \"friends_count\": 1,\n   \"listed_count\": 27,\n   \"created_at\": \"Thu Dec 14 01:47:35 +0000 2017\",\n   \"favourites_count\": 158,\n   \"utc_offset\": null,\n   \"time_zone\": null,\n   \"geo_enabled\": false,\n   \"verified\": true,\n   \"statuses_count\": 85,\n   \"lang\": \"en\",\n   \"contributors_enabled\": false,\n   \"is_translator\": false,\n   \"is_translation_enabled\": false,\n   \"profile_background_color\": \"F5F8FA\",\n   \"profile_background_image_url\": null,\n   \"profile_background_image_url_https\": null,\n   \"profile_background_tile\": false,\n   \"profile_image_url\": \"http://pbs.twimg.com/profile_images/1049645032716685313/mrdS7r5F_normal.jpg\",\n   \"profile_image_url_https\": \"https://pbs.twimg.com/profile_images/1049645032716685313/mrdS7r5F_normal.jpg\",\n   \"profile_banner_url\": \"https://pbs.twimg.com/profile_banners/941122464259518464/1539089886\",\n   \"profile_link_color\": \"1DA1F2\",\n   \"profile_sidebar_border_color\": \"C0DEED\",\n   \"profile_sidebar_fill_color\": \"DDEEF6\",\n   \"profile_text_color\": \"333333\",\n   \"profile_use_background_image\": true,\n   \"has_extended_profile\": false,\n   \"default_profile\": true,\n   \"default_profile_image\": false,\n   \"following\": false,\n   \"follow_request_sent\": false,\n   \"notifications\": false,\n   \"translator_type\": \"none\"\n  },\n  \"geo\": null,\n  \"coordinates\": null,\n  \"place\": null,\n  \"contributors\": null,\n  \"is_quote_status\": false,\n  \"retweet_count\": 2423,\n  \"favorite_count\": 5017,\n  \"favorited\": false,\n  \"retweeted\": false,\n  \"possibly_sensitive\": false,\n  \"lang\": \"en\"\n },\n \"is_quote_status\": false,\n \"retweet_count\": 2423,\n \"favorite_count\": 0,\n \"favorited\": false,\n \"retweeted\": false,\n \"lang\": \"en\"\n}\n"
     ]
    }
   ],
   "source": [
    "# Show one sample search result by slicing the list...\n",
    "\n",
    "print(json.dumps(statuses[0], indent=1))"
   ]
  },
  {
   "cell_type": "code",
   "execution_count": 52,
   "metadata": {},
   "outputs": [
    {
     "name": "stdout",
     "output_type": "stream",
     "text": [
      "2423\nFalse\n"
     ]
    }
   ],
   "source": [
    "# The result of the list comprehension is a list with only one element that\n",
    "# can be accessed by its index and set to the variable t\n",
    "\n",
    "t = statuses[0]\n",
    "\n",
    "#[ status for status in statuses \n",
    "#          if status['id'] == 316948241264549888 ][0]\n",
    "\n",
    "# Explore the variable t to get familiarized with the data structure...\n",
    "\n",
    "print(t['retweet_count'])\n",
    "print(t['retweeted'])"
   ]
  },
  {
   "cell_type": "markdown",
   "metadata": {},
   "source": [
    "## Example 6. Extracting text, screen names, and hashtags from tweets\n",
    "\n",
    "We'll use again the text screen names and hashtags\n",
    "for all these records and we'll assign them to lists.\n",
    "We'll call the first list status_texts.\n",
    "So status_texts for all statuses, right?\n",
    "Screen_names will be the next one.\n",
    "User mention screen name and the for status all statuses.\n",
    "And hashtags.\n",
    "We definitely want the hashtags to keep track of them."
   ]
  },
  {
   "cell_type": "code",
   "execution_count": 53,
   "metadata": {},
   "outputs": [],
   "source": [
    "status_texts = [status['text']\n",
    "                for status in statuses]\n",
    "\n",
    "screen_names = [user_mention['screen_name']\n",
    "                for status in statuses\n",
    "                    for user_mention in status['entities']['user_mentions']]\n",
    "\n",
    "hashtags = [hashtag['text']\n",
    "            for status in statuses\n",
    "                for hashtag in status['entities']['hashtags']]\n",
    "\n",
    "# Compute a collection of all words from all tweets\n",
    "\n",
    "words = [w\n",
    "         for t in status_texts\n",
    "            for w in t.split()]"
   ]
  },
  {
   "cell_type": "code",
   "execution_count": 54,
   "metadata": {},
   "outputs": [
    {
     "name": "stdout",
     "output_type": "stream",
     "text": [
      "[\"RT @petsematarymov: They don't come back the same. Based on @StephenKing’s terrifying novel, watch the official trailer for #PetSematary. I…\", 'RT @petsematarymov: Sometimes dead is better. Check out the official poster for #PetSematary. In theatres April 5. https://t.co/K8UiftIwZp', 'Have mixed feelings about the switch to Ellie from Gage in the new #PetSematary - my guess is so she can do more fu… https://t.co/0J0rk3MhA2', '@GSUniverse #PetSematary https://t.co/Qvx0O84CTx', \"RT @Drumdums: EVERYONE...do NOT watch the new #PetSematary trailer. There is a MAJOR spoiler. I'm still excited, but boy do I wish I avoide…\", 'RT @ItsMeDeaner: Dayum #PetSematary https://t.co/I4gQKRQ451', 'I’m a bit behind on new horror movie releases but happy to see Pet Sematary is getting 30th Anniversary 4K/Blu-ray… https://t.co/Mihd2WCWYw', 'Creepy New Trailer For #PetSematary Warns Sometimes Dead Is Better  https://t.co/1ZX0BEq9L7  #Horror https://t.co/L4uxU16uGn', 'RT @RottenTomatoes: Sometimes dead is better. #PetSematary comes to theaters April 5th. https://t.co/0SxIffyG78', 'New official poster for the remake of PET SEMATARY (CEMITÉRIO MALDITO).\\n#PetSematary #movieposter #remake #horror… https://t.co/e5YY9cbqa2', 'RT @BrendanJCassidy: As a MASSIVE fan of Stephen King’s novel #PetSematary:\\n\\nReaction to first trailer = “This looks genuinely good, harrow…', 'El avance de #PetSematary de #StephenKing aterrorizará tu día. https://t.co/J9PZXb7x0S https://t.co/cLDqxRcgTp', 'added new trailers for:\\n\\nPet Sematary\\nSaint Judy\\nThe Sun is Also a Star\\n\\nhttps://t.co/yC94IzCXTo\\n\\n#PetSematary… https://t.co/gmEIN16YHL', '#PetSematary trailer - rubbish', 'RT @ChrisThomasson7: (PET SEMATARY SPOILER)\\n\\n💯 % disagree with this premise. What made the novel so terrifying was that a completely innoce…', 'RT @adcomicscity: Quien verá este remake de 1989?...\\n#StephenKing #PetSematary #CementerioDeAnimales aquí en #Mexico se conoció como Cement…', 'RT @NerdNationN2: New #PetSematary trailer reveals a huge plot twist. I would prefer to have been surprised by it! Now, I kind of feel like…', 'Basada en la terrorífica novela de @StephenKing tráiler oficial de #PetSematary\\n\\n#cine #Noticias https://t.co/nZoOlT9dgs', 'RT @GSUniverse: The second Pet Sematary trailer has arrived! #PetSematary https://t.co/oOaLVwv6jJ', '\"Sometimes Dead is Better.\" New trailer for Pet Sematary 2019 is out.  https://t.co/YeDiJvsexL #PetSematary', \"FYI: I'm not sure why I want to make this distinction, but my background is from The Wicker Man, not the #PetSematary trailer.\", 'Yes!!!! #PetSematary \\nhttps://t.co/baQ2ZoElUP', 'Quien verá este remake de 1989?...\\n#StephenKing #PetSematary #CementerioDeAnimales aquí en #Mexico se conoció como… https://t.co/6GRkPWfRhp', 'Every single one of these photos from #PetSematary will send a chill down your spine. https://t.co/ekGXhxiCx0', '#PetSematary Yo sólo espero revivir estas grandes historias del maestro @StephenKing #IT #Misery', '[WEB] El nuevo tráiler de #PetSematary viene intenso 📲 https://t.co/675GIMDZnA https://t.co/Bs3XnwQdnR', 'RT @altapeli: A veces es mejor seguir muerto. Mirá el nuevo trailer de #CementerioDeAnimales #PetSematary https://t.co/cB2DUpZlXg', 'Nuevo #póster y #tráiler de #CementerioDeAnimales (@petsematarymov / @paramount_spain):\\nhttps://t.co/er729HyKe2… https://t.co/KpUEi6xf80', \"RT @RottenTomatoes: They don't come back the same... Watch the new trailer for Stephen King's #PetSematary https://t.co/zr1XTDIB6L\", \"The #PetSematary trailer had one big reveal: Gage doesn't die. \\n\\nThe directors reveal why they decided to switch up… https://t.co/DRUR7MJfL7\", 'RT @atomtickets: New poster for #PetSematary, based on the seminal horror novel by Stephen King! https://t.co/QdSpl0aGuP', 'RT @petsematarymov: @StephenKing You’ve been warned by the King himself. #PetSematary https://t.co/hjPEnFt16q', 'RT @12nighthorror: NEW #HORRORTRAILER ALERT!\\n🚨🚨🚨🚨🚨🚨\\nCOME WATCH THE NEWEST #HORROR PREVIEW FOR #PetSematary #PetSematary2019 TRAILER 2!\\nhttp…', 'This is what I thought about the #PetSematary Trailer 😠😫 #childhoodruined https://t.co/hH28oiufKI', \"Pet Sematary remake looks more like The Wicker Man Sematary.... 😕 \\nNot impressed with the changes and sorry, it's n… https://t.co/QdtvPf2c49\", \"AAAAAH !!!!\\nIT'S FOR ME !!!!!! 😱😀\\nI LOVE THIS MOVIE !!!!\\n#PetSematary \\n#April \\n@StephenKing https://t.co/X1AxMCS5Ux\"]\n"
     ]
    }
   ],
   "source": [
    "print(status_texts)"
   ]
  },
  {
   "cell_type": "code",
   "execution_count": 55,
   "metadata": {},
   "outputs": [
    {
     "name": "stdout",
     "output_type": "stream",
     "text": [
      "['petsematarymov', 'StephenKing', 'petsematarymov', 'GSUniverse', 'Drumdums', 'ItsMeDeaner', 'RottenTomatoes', 'BrendanJCassidy', 'ChrisThomasson7', 'adcomicscity', 'NerdNationN2', 'StephenKing', 'GSUniverse', 'StephenKing', 'altapeli', 'petsematarymov', 'paramount_spain', 'RottenTomatoes', 'atomtickets', 'petsematarymov', 'StephenKing', '12nighthorror', 'StephenKing']\n"
     ]
    }
   ],
   "source": [
    "print(screen_names)"
   ]
  },
  {
   "cell_type": "code",
   "execution_count": 56,
   "metadata": {},
   "outputs": [
    {
     "name": "stdout",
     "output_type": "stream",
     "text": [
      "['PetSematary', 'PetSematary', 'PetSematary', 'PetSematary', 'PetSematary', 'PetSematary', 'PetSematary', 'Horror', 'PetSematary', 'PetSematary', 'movieposter', 'remake', 'horror', 'PetSematary', 'PetSematary', 'StephenKing', 'PetSematary', 'PetSematary', 'StephenKing', 'PetSematary', 'CementerioDeAnimales', 'Mexico', 'PetSematary', 'PetSematary', 'cine', 'Noticias', 'PetSematary', 'PetSematary', 'PetSematary', 'PetSematary', 'StephenKing', 'PetSematary', 'CementerioDeAnimales', 'Mexico', 'PetSematary', 'PetSematary', 'IT', 'Misery', 'PetSematary', 'CementerioDeAnimales', 'PetSematary', 'póster', 'tráiler', 'CementerioDeAnimales', 'PetSematary', 'PetSematary', 'PetSematary', 'PetSematary', 'HORRORTRAILER', 'HORROR', 'PetSematary', 'PetSematary2019', 'PetSematary', 'childhoodruined', 'PetSematary', 'April']\n"
     ]
    }
   ],
   "source": [
    "print(hashtags)"
   ]
  },
  {
   "cell_type": "markdown",
   "metadata": {},
   "source": [
    "We are using the data structure\n",
    "for retrieving the data from the tweet records\n",
    "just as a summary.\n",
    "The third listed here, or fourth, is interesting\n",
    "because we are splitting the message\n",
    "to create a list of all the words.\n",
    "You've seen this in the bag of words.\n",
    "Here we are just using the split function again\n",
    "from the string class.\n",
    "Running this.\n",
    "In the next code cell, we just the JSON dumps\n",
    "to display the first five items for each list."
   ]
  },
  {
   "cell_type": "code",
   "execution_count": 57,
   "metadata": {
    "collapsed": true
   },
   "outputs": [
    {
     "name": "stdout",
     "output_type": "stream",
     "text": [
      "[\n \"RT @petsematarymov: They don't come back the same. Based on @StephenKing\\u2019s terrifying novel, watch the official trailer for #PetSematary. I\\u2026\",\n \"RT @petsematarymov: Sometimes dead is better. Check out the official poster for #PetSematary. In theatres April 5. https://t.co/K8UiftIwZp\",\n \"Have mixed feelings about the switch to Ellie from Gage in the new #PetSematary - my guess is so she can do more fu\\u2026 https://t.co/0J0rk3MhA2\",\n \"@GSUniverse #PetSematary https://t.co/Qvx0O84CTx\",\n \"RT @Drumdums: EVERYONE...do NOT watch the new #PetSematary trailer. There is a MAJOR spoiler. I'm still excited, but boy do I wish I avoide\\u2026\"\n]\n[\n \"petsematarymov\",\n \"StephenKing\",\n \"petsematarymov\",\n \"GSUniverse\",\n \"Drumdums\"\n]\n[\n \"PetSematary\",\n \"PetSematary\",\n \"PetSematary\",\n \"PetSematary\",\n \"PetSematary\"\n]\n[\n \"RT\",\n \"@petsematarymov:\",\n \"They\",\n \"don't\",\n \"come\"\n]\n"
     ]
    }
   ],
   "source": [
    "# Explore the first 5 items for each...\n",
    "\n",
    "print(json.dumps(status_texts[0:5], indent=1))\n",
    "print(json.dumps(screen_names[0:5], indent=1)) \n",
    "print(json.dumps(hashtags[0:5], indent=1))\n",
    "print(json.dumps(words[0:5], indent=1))"
   ]
  },
  {
   "cell_type": "markdown",
   "metadata": {},
   "source": [
    "## Example 7. Creating a basic frequency distribution from the words in tweets\n",
    "\n",
    "\n",
    "As you remember from the last lesson,\n",
    "the collections package in the standard library\n",
    "contains the counter class,\n",
    "which is handy for creating frequency distributions.\n",
    "It gets lists and counts how many times\n",
    "each items is repeated in a list.\n",
    "Its most common method\n",
    "returns the sorted counts.\n",
    "\n",
    "The final output works\n",
    "but it's hard to read with all that syntax.\n",
    "We will create a nicely formatted table out of this output.\n",
    "In the notebook,\n",
    "we will use advanced string formatting operations in Python.\n",
    "\n"
   ]
  },
  {
   "cell_type": "markdown",
   "metadata": {},
   "source": [
    "In any string printing,\n",
    "if you format it with colon 20,\n",
    "it will pad the string to be 20 characters\n",
    "with spaces in the end.\n",
    "Carat 20 in the second line here,\n",
    "will format the string to be centered\n",
    "in the middle of 20 spaces.\n",
    "And greater than in the third line,\n",
    "will do the same thing while right aligning the string."
   ]
  },
  {
   "cell_type": "code",
   "execution_count": 60,
   "metadata": {},
   "outputs": [
    {
     "name": "stdout",
     "output_type": "stream",
     "text": [
      "[('#PetSematary', 27), ('RT', 15), ('the', 15), ('is', 10), ('trailer', 9), ('de', 9), ('to', 7), ('a', 7), ('I', 7), ('for', 6), ('The', 6), ('new', 5), ('Pet', 5), ('Sematary', 5), ('New', 5), ('remake', 4), ('of', 4), ('#CementerioDeAnimales', 4), ('@StephenKing', 4), ('@petsematarymov:', 3)]\n\n[('StephenKing', 5), ('petsematarymov', 4), ('GSUniverse', 2), ('RottenTomatoes', 2), ('Drumdums', 1), ('ItsMeDeaner', 1), ('BrendanJCassidy', 1), ('ChrisThomasson7', 1), ('adcomicscity', 1), ('NerdNationN2', 1), ('altapeli', 1), ('paramount_spain', 1), ('atomtickets', 1), ('12nighthorror', 1)]\n\n[('PetSematary', 32), ('CementerioDeAnimales', 4), ('StephenKing', 3), ('Mexico', 2), ('Horror', 1), ('movieposter', 1), ('remake', 1), ('horror', 1), ('cine', 1), ('Noticias', 1), ('IT', 1), ('Misery', 1), ('póster', 1), ('tráiler', 1), ('HORRORTRAILER', 1), ('HORROR', 1), ('PetSematary2019', 1), ('childhoodruined', 1), ('April', 1)]\n\n"
     ]
    }
   ],
   "source": [
    "from collections import Counter\n",
    "\n",
    "for item in [words, screen_names, hashtags]:\n",
    "    c = Counter(item)\n",
    "    print(c.most_common()[:20]) # top 20\n",
    "    print()"
   ]
  },
  {
   "cell_type": "markdown",
   "metadata": {},
   "source": [
    "But again,\n",
    "we are using the padding option\n",
    "in advanced string formatting.\n",
    "You can format a string to a specific length\n",
    "using a format string like we do for here,\n",
    "the 20.\n",
    "It's gonna be definitely printing 20.\n",
    "\n",
    "## Example 8. Create a prettyprint function to display tuples in a nice tabular format\n"
   ]
  },
  {
   "cell_type": "code",
   "execution_count": 61,
   "metadata": {},
   "outputs": [],
   "source": [
    "def prettyprint_counts(label, list_of_tuples):\n",
    "    print('\\n{:^20} | {:^6}'.format(label, 'Count'))#left alignment, Creating labels on top\n",
    "    print('*'*40)\n",
    "    for k, v in list_of_tuples:\n",
    "        #We will pad the k to be printed with 20, completed to 20 characters by spaces behind it.\n",
    "        print('{:20} | {:>6}'.format(k, v))#right alignment"
   ]
  },
  {
   "cell_type": "code",
   "execution_count": 62,
   "metadata": {},
   "outputs": [
    {
     "name": "stdout",
     "output_type": "stream",
     "text": [
      "\n       World         | Count \n****************************************\n#PetSematary         |     27\nRT                   |     15\nthe                  |     15\nis                   |     10\ntrailer              |      9\nde                   |      9\nto                   |      7\na                    |      7\nI                    |      7\nfor                  |      6\n\n    Screen Name      | Count \n****************************************\nStephenKing          |      5\npetsematarymov       |      4\nGSUniverse           |      2\nRottenTomatoes       |      2\nDrumdums             |      1\nItsMeDeaner          |      1\nBrendanJCassidy      |      1\nChrisThomasson7      |      1\nadcomicscity         |      1\nNerdNationN2         |      1\n\n      Hashtag        | Count \n****************************************\nPetSematary          |     32\nCementerioDeAnimales |      4\nStephenKing          |      3\nMexico               |      2\nHorror               |      1\nmovieposter          |      1\nremake               |      1\nhorror               |      1\ncine                 |      1\nNoticias             |      1\n"
     ]
    }
   ],
   "source": [
    "# So now we can use this prettyprinter function\n",
    "# for each label and data in word and words.\n",
    "# Those are our k and v.\n",
    "# And we are going through the data in our counter.\n",
    "# We are loading the data into a counter.\n",
    "# And we are giving this counter\n",
    "# and the labels to our prettyprint function.\n",
    "\n",
    "\n",
    "for label, data in (('World', words),\n",
    "                    ('Screen Name', screen_names),\n",
    "                    ('Hashtag', hashtags)):\n",
    "    c = Counter(data)\n",
    "    prettyprint_counts(label, c.most_common()[:10])"
   ]
  },
  {
   "cell_type": "markdown",
   "metadata": {},
   "source": [
    "## Example 9. Finding the most popular retweets\n",
    "\n"
   ]
  },
  {
   "cell_type": "code",
   "execution_count": 63,
   "metadata": {},
   "outputs": [],
   "source": [
    "retweets = [\n",
    "    ## Store out a tuple of these three values ...\n",
    "    (status['retweet_count'],\n",
    "     status['retweeted_status']['user']['screen_name'],\n",
    "     status['text'].replace('\\n', '\\\\'))\n",
    "    \n",
    "    # ... for each status ...\n",
    "    for status in statuses\n",
    "    \n",
    "    #... so long as the status meets this condition.\n",
    "        if 'retweeted_status' in status\n",
    "]"
   ]
  },
  {
   "cell_type": "markdown",
   "metadata": {},
   "source": [
    "We can build another `prettyprint` function to print entire tweets with their retweet count.\n",
    "\n",
    "We also want to split the text of the tweet in up to 3 lines, if needed."
   ]
  },
  {
   "cell_type": "markdown",
   "metadata": {},
   "source": [
    "And finally, we can print them in tabular format.\n",
    "Here the complication is due to the fact that\n",
    "we want to print the entire text of a Tweet.\n",
    "And it's 140 characters it would not fit in a single line.\n",
    "In this\n",
    "code block or the cell,\n",
    "code cell here,\n",
    "we have the prettyprint Tweets function.\n",
    "We need to split the text of a Tweet\n",
    "into three lines\n",
    "of 50 characters each\n",
    "to have some margin.\n",
    "We have 140 characters;\n",
    "moreover, we want to handle the k's of short Tweets\n",
    "that don't need all of the three lines\n",
    "with nested statements.\n",
    "Please find time to go over this one.\n",
    "This is exactly what we are doing."
   ]
  },
  {
   "cell_type": "code",
   "execution_count": 64,
   "metadata": {},
   "outputs": [],
   "source": [
    "row_template = '{:^7} | {:^15} | {:50}'\n",
    "def prettyprint_tweets(list_of_tuples):\n",
    "    print()\n",
    "    print(row_template.format('Count', 'Screen Name', 'Text'))\n",
    "    print('*'*30)\n",
    "    for count, screen_name, text in list_of_tuples:\n",
    "        print(row_template.format(count, screen_name, text[:50]))\n",
    "        if len(text) > 50:\n",
    "            print(row_template.format('', '', text[50:100]))\n",
    "            if len(text) > 100:\n",
    "                print(row_template.format('', '', text[100:]))"
   ]
  },
  {
   "cell_type": "markdown",
   "metadata": {},
   "source": []
  },
  {
   "cell_type": "code",
   "execution_count": null,
   "metadata": {},
   "outputs": [
    {
     "name": "stdout",
     "output_type": "stream",
     "text": [
      "\n Count  |   Screen Name   | Text                                              \n******************************\n 2423   | petsematarymov  | RT @petsematarymov: They don't come back the same.\n        |                 |  Based on @StephenKing’s terrifying novel, watch t\n        |                 | he official trailer for #PetSematary. I…          \n  392   | petsematarymov  | RT @petsematarymov: Sometimes dead is better. Chec\n        |                 | k out the official poster for #PetSematary. In the\n        |                 | atres April 5. https://t.co/K8UiftIwZp            \n  288   |   GSUniverse    | RT @GSUniverse: The second Pet Sematary trailer ha\n        |                 | s arrived! #PetSematary https://t.co/oOaLVwv6jJ   \n  262   | RottenTomatoes  | RT @RottenTomatoes: They don't come back the same.\n        |                 | .. Watch the new trailer for Stephen King's #PetSe\n        |                 | matary https://t.co/zr1XTDIB6L                    \n  77    | RottenTomatoes  | RT @RottenTomatoes: Sometimes dead is better. #Pet\n        |                 | Sematary comes to theaters April 5th. https://t.co\n        |                 | /0SxIffyG78                                       \n  47    |    Drumdums     | RT @Drumdums: EVERYONE...do NOT watch the new #Pet\n        |                 | Sematary trailer. There is a MAJOR spoiler. I'm st\n        |                 | ill excited, but boy do I wish I avoide…          \n  21    |  12nighthorror  | RT @12nighthorror: NEW #HORRORTRAILER ALERT!\\🚨🚨🚨🚨🚨\n        |                 | 🚨\\COME WATCH THE NEWEST #HORROR PREVIEW FOR #PetSe\n        |                 | matary #PetSematary2019 TRAILER 2!\\http…          \n  12    |    altapeli     | RT @altapeli: A veces es mejor seguir muerto. Mirá\n        |                 |  el nuevo trailer de #CementerioDeAnimales #PetSem\n        |                 | atary https://t.co/cB2DUpZlXg                     \n  11    | petsematarymov  | RT @petsematarymov: @StephenKing You’ve been warne\n        |                 | d by the King himself. #PetSematary https://t.co/h\n        |                 | jPEnFt16q                                         \n  11    | ChrisThomasson7 | RT @ChrisThomasson7: (PET SEMATARY SPOILER)\\\\💯 % d\n        |                 | isagree with this premise. What made the novel so \n        |                 | terrifying was that a completely innoce…          \n"
     ]
    }
   ],
   "source": [
    "#slice off the first 5 from the sorted results and display each item in the tuple\n",
    "\n",
    "prettyprint_tweets(sorted(retweets, reverse=True)[:20])"
   ]
  },
  {
   "cell_type": "code",
   "execution_count": null,
   "metadata": {},
   "outputs": [],
   "source": []
  }
 ],
 "metadata": {
  "kernelspec": {
   "display_name": "Python 2",
   "language": "python",
   "name": "python2"
  },
  "language_info": {
   "codemirror_mode": {
    "name": "ipython",
    "version": 2
   },
   "file_extension": ".py",
   "mimetype": "text/x-python",
   "name": "python",
   "nbconvert_exporter": "python",
   "pygments_lexer": "ipython2",
   "version": "2.7.6"
  }
 },
 "nbformat": 4,
 "nbformat_minor": 0
}
