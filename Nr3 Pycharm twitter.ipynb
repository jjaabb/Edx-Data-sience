{
 "cells": [
  {
   "cell_type": "markdown",
   "metadata": {
    "collapsed": true
   },
   "source": [
    "# Twitter data\n",
    "\n",
    "## Copyright and Licensing\n",
    "\n",
    "You are free to use or adapt this notebook for any purpose you'd like. However, please respect the [Simplified BSD License](https://github.com/ptwobrussell/Mining-the-Social-Web-2nd-Edition/blob/master/LICENSE.txt) that governs its use."
   ]
  },
  {
   "cell_type": "markdown",
   "metadata": {},
   "source": [
    "# Twitter API Access\n",
    "\n",
    "Twitter implements OAuth 1.0A as its standard authentication mechanism, and in order to use it to make requests to Twitter's API, you'll need to go to https://dev.twitter.com/apps and create a sample application.\n",
    "\n",
    "Choose any name for your application, write a description and use `http://google.com` for the website.\n",
    "\n",
    "Under **Key and Access Tokens**, there are four primary identifiers you'll need to note for an OAuth 1.0A workflow: \n",
    "* consumer key, \n",
    "* consumer secret, \n",
    "* access token, and \n",
    "* access token secret (Click on Create Access Token to create those).\n",
    "\n",
    "Note that you will need an ordinary Twitter account in order to login, create an app, and get these credentials."
   ]
  },
  {
   "cell_type": "markdown",
   "metadata": {},
   "source": [
    "The first time you execute the notebook, add all credentials so that you can save them in the `pkl` file, then you can remove the secret keys from the notebook because they will just be loaded from the `pkl` file.\n",
    "\n",
    "The `pkl` file contains sensitive information that can be used to take control of your twitter acccount, **do not share it**."
   ]
  },
  {
   "cell_type": "code",
   "execution_count": 1,
   "metadata": {},
   "outputs": [],
   "source": [
    "import pickle\n",
    "import os"
   ]
  },
  {
   "cell_type": "markdown",
   "metadata": {},
   "source": [
    "As you see in this code block, in this if statement,\n",
    "we create an object called Twitter and we use it\n",
    "to store our access credentials.\n",
    "So consumer key, consumer secret,\n",
    "they are all stored in the Twitter object.\n",
    "If the pickled credentials exist,\n",
    "it will just load the credentials from the pickle file\n",
    "into the Twitter object."
   ]
  },
  {
   "cell_type": "markdown",
   "metadata": {},
   "source": [
    "What does pickle do, right?\n",
    "It's a cute name for a Python utility module\n",
    "to save any Python object or data structure on disk.\n",
    "Pickle will do something special called serialization.\n",
    "To convert any Python object or in this case,\n",
    "this Twitter object, into a character stream\n",
    "so the object can be created later in Python\n",
    "when we need it.\n",
    "Reconstruction of that object is called deserialization.\n",
    "So pickle will do this for your Twitter access credentials\n",
    "and when we come back, it loads it\n",
    "back into Twitter as an object."
   ]
  },
  {
   "cell_type": "code",
   "execution_count": 2,
   "metadata": {},
   "outputs": [],
   "source": [
    "if not os.path.exists('secret_twitter_credentials.pkl'):\n",
    "    Twitter={}#creating object twitter to save access credentials\n",
    "    Twitter['Consumer Key'] = 'pupiHYsEGgi363iUyH3wsrgQL'\n",
    "    Twitter['Consumer Secret'] = '4zkm8MMgyAjP9MnHlA3naHdmctOsEs3Wf03DvNEe9wCojc2XEF'\n",
    "    Twitter['Access Token'] = '1092500612711882752-mIywgatuE9SK86DISdIVXJ9X3ccuMc'\n",
    "    Twitter['Access Token Secret'] = '9u7dT9mgYmNH5bqiYlkWfMuXV8dUD2vFVI6ldHOHtuQS8'\n",
    "    with open('secret_twitter_credentials.pkl','wb') as f:\n",
    "        pickle.dump(Twitter, f)\n",
    "else:\n",
    "    Twitter=pickle.load(open('secret_twitter_credentials.pkl','rb'))"
   ]
  },
  {
   "cell_type": "markdown",
   "metadata": {},
   "source": [
    "Okay, in the next code block,\n",
    "we'll use the Twitter object we started\n",
    "and we start working with the Twitter API\n",
    "to create a new object called authentication, or auth.\n",
    "Here we have our A-U-T-H, the auth.\n",
    "We will use this authentication to create\n",
    "a Twitter API object.\n",
    "So what we've done is, we called twitter.\n",
    "We imported twitter package in Python first.\n",
    "We called twitter and used the auth function\n",
    "to create the authentication object, or that class creation.\n",
    "And then we'll now use the Twitter API\n",
    "to use this authentication\n",
    "and create a Twitter API object."
   ]
  },
  {
   "cell_type": "code",
   "execution_count": 3,
   "metadata": {},
   "outputs": [
    {
     "name": "stdout",
     "output_type": "stream",
     "text": [
      "<twitter.api.Twitter object at 0x7f57940db860>\n"
     ]
    }
   ],
   "source": [
    "import twitter\n",
    "\n",
    "auth = twitter.oauth.OAuth(Twitter['Access Token'],\n",
    "                           Twitter['Access Token Secret'],\n",
    "                           Twitter['Consumer Key'],\n",
    "                           Twitter['Consumer Secret'])\n",
    "\n",
    "twitter_api = twitter.Twitter(auth=auth)\n",
    "\n",
    "#Nothing to see by displayng twitter_api except that it's now \n",
    "# a defined variable\n",
    "\n",
    "print(twitter_api)"
   ]
  },
  {
   "cell_type": "markdown",
   "metadata": {},
   "source": [
    "## Example 2. Retrieving trends"
   ]
  },
  {
   "cell_type": "markdown",
   "metadata": {},
   "source": [
    "Twitter identifies locations using the Yahoo! Where On Earth ID.\n",
    "\n",
    "The Yahoo! Where On Earth ID for the entire world is 1.\n",
    "See https://dev.twitter.com/docs/api/1.1/get/trends/place and\n",
    "http://developer.yahoo.com/geo/geoplanet/\n",
    "\n",
    "look at the BOSS placefinder here: https://developer.yahoo.com/boss/placefinder/\n",
    "\n",
    "Sitas paskutinis  linkas skirtas ieskot vietos ID numerio"
   ]
  },
  {
   "cell_type": "code",
   "execution_count": 4,
   "metadata": {},
   "outputs": [],
   "source": [
    "WORLD_WOE_ID = 1\n",
    "US_WOE_ID = 23424977\n",
    "LOCAL_WOE_ID=2487889\n",
    "#LTU_WOE_ID = 598544\n",
    "# KAUNAS_WOE_ID = 55848084"
   ]
  },
  {
   "cell_type": "markdown",
   "metadata": {},
   "source": [
    "Look for the WOEID for [san-diego](http://woeid.rosselliot.co.nz/lookup/san%20diego%20%20ca)\n",
    "\n",
    "You can change it to another location."
   ]
  },
  {
   "cell_type": "code",
   "execution_count": 5,
   "metadata": {},
   "outputs": [],
   "source": [
    "# Prefix ID with the underscore for query string parameterization.\n",
    "# Without the underscore, the twitter package appends the ID value\n",
    "# to the URL itself as a special case keyword argument.\n",
    "\n",
    "local_trends = twitter_api.trends.place(_id=LOCAL_WOE_ID)\n",
    "world_trends = twitter_api.trends.place(_id=WORLD_WOE_ID)\n",
    "us_trends = twitter_api.trends.place(_id=US_WOE_ID)\n",
    "#ltu_trends = twitter_api.trends.place(_id=LTU_WOE_ID)\n",
    "# kns_trends = twitter_api.trends.place(_id=KAUNAS_WOE_ID)"
   ]
  },
  {
   "cell_type": "code",
   "execution_count": 6,
   "metadata": {},
   "outputs": [],
   "source": [
    "#print(world_trends[:2])"
   ]
  },
  {
   "cell_type": "code",
   "execution_count": 7,
   "metadata": {},
   "outputs": [
    {
     "name": "stdout",
     "output_type": "stream",
     "text": [
      "<class 'twitter.api.TwitterListResponse'>\n"
     ]
    }
   ],
   "source": [
    "trends = world_trends\n",
    "print(type(trends))\n",
    "# print(list(trends[0].keys()))\n",
    "# print(trends[0]['trends'])"
   ]
  },
  {
   "cell_type": "markdown",
   "metadata": {},
   "source": [
    "## Example 3. Displaying API responses as pretty-printed JSON\n",
    "\n",
    "\n",
    "So in this line we are using the dumps function of JSON\n",
    "to create a better\n",
    "or more prettier version of the same output.\n",
    "Here we said the indentation format,\n",
    "we are saying indent every neve parenthesis\n",
    "or every neve level we would call in JSON\n",
    "with one character."
   ]
  },
  {
   "cell_type": "code",
   "execution_count": 8,
   "metadata": {
    "collapsed": false
   },
   "outputs": [
    {
     "name": "stdout",
     "output_type": "stream",
     "text": [
      "[\n {\n  \"trends\": [\n   {\n    \"name\": \"#NGWSD\",\n    \"url\": \"http://twitter.com/search?q=%23NGWSD\",\n    \"promoted_content\": null,\n    \"query\": \"%23NGWSD\",\n    \"tweet_volume\": 11078\n   },\n   {\n    \"name\": \"#WednesdayWisdom\",\n    \"url\": \"http://twitter.com/search?q=%23WednesdayWisdom\",\n    \"promoted_content\": null,\n    \"query\": \"%23WednesdayWisdom\",\n    \"tweet_volume\": 106888\n   },\n   {\n    \"name\": \"#ThingsIKnowIllNeverDo\",\n    \"url\": \"http://twitter.com/search?q=%23ThingsIKnowIllNeverDo\",\n    \"promoted_content\": null,\n    \"query\": \"%23ThingsIKnowIllNeverDo\",\n    \"tweet_volume\": null\n   },\n   {\n    \"name\": \"Matt Bryant\",\n    \"url\": \"http://twitter.com/search?q=%22Matt+Bryant%22\",\n    \"promoted_content\": null,\n    \"query\": \"%22Matt+Bryant%22\",\n    \"tweet_volume\": null\n   },\n   {\n    \"name\": \"#NationalSigningDay\",\n    \"url\": \"http://twitter.com/search?q=%23NationalSigningDay\",\n    \"promoted_content\": null,\n    \"query\": \"%23NationalSigningDay\",\n    \"tweet_volume\": 12558\n   },\n   {\n    \"name\": \"#askmeek\",\n    \"url\": \"http://twitter.com/search?q=%23askmeek\",\n    \"promoted_content\": null,\n    \"query\": \"%23askmeek\",\n    \"tweet_volume\": null\n   },\n   {\n    \"name\": \"Mark Herring\",\n    \"url\": \"http://twitter.com/search?q=%22Mark+Herring%22\",\n    \"promoted_content\": null,\n    \"query\": \"%22Mark+Herring%22\",\n    \"tweet_volume\": 29459\n   },\n   {\n    \"name\": \"Bob Marley\",\n    \"url\": \"http://twitter.com/search?q=%22Bob+Marley%22\",\n    \"promoted_content\": null,\n    \"query\": \"%22Bob+Marley%22\",\n    \"tweet_volume\": 42019\n   },\n   {\n    \"name\": \"Virginia Democrats\",\n    \"url\": \"http://twitter.com/search?q=%22Virginia+Democrats%22\",\n    \"promoted_content\": null,\n    \"query\": \"%22Virginia+Democrats%22\",\n    \"tweet_volume\": 11920\n   },\n   {\n    \"name\": \"Vanessa Tyson\",\n    \"url\": \"http://twitter.com/search?q=%22Vanessa+Tyson%22\",\n    \"promoted_content\": null,\n    \"query\": \"%22Vanessa+Tyson%22\",\n    \"tweet_volume\": 13784\n   },\n   {\n    \"name\": \"Malachi Richardson\",\n    \"url\": \"http://twitter.com/search?q=%22Malachi+Richardson%22\",\n    \"promoted_content\": null,\n    \"query\": \"%22Malachi+Richardson%22\",\n    \"tweet_volume\": null\n   },\n   {\n    \"name\": \"Cody McLeod\",\n    \"url\": \"http://twitter.com/search?q=%22Cody+McLeod%22\",\n    \"promoted_content\": null,\n    \"query\": \"%22Cody+McLeod%22\",\n    \"tweet_volume\": null\n   },\n   {\n    \"name\": \"Kurtis Blow\",\n    \"url\": \"http://twitter.com/search?q=%22Kurtis+Blow%22\",\n    \"promoted_content\": null,\n    \"query\": \"%22Kurtis+Blow%22\",\n    \"tweet_volume\": null\n   },\n   {\n    \"name\": \"Brian Boyle\",\n    \"url\": \"http://twitter.com/search?q=%22Brian+Boyle%22\",\n    \"promoted_content\": null,\n    \"query\": \"%22Brian+Boyle%22\",\n    \"tweet_volume\": null\n   },\n   {\n    \"name\": \"Stanley Johnson\",\n    \"url\": \"http://twitter.com/search?q=%22Stanley+Johnson%22\",\n    \"promoted_content\": null,\n    \"query\": \"%22Stanley+Johnson%22\",\n    \"tweet_volume\": 10637\n   },\n   {\n    \"name\": \"Thon Maker\",\n    \"url\": \"http://twitter.com/search?q=%22Thon+Maker%22\",\n    \"promoted_content\": null,\n    \"query\": \"%22Thon+Maker%22\",\n    \"tweet_volume\": 10774\n   },\n   {\n    \"name\": \"devonta lee\",\n    \"url\": \"http://twitter.com/search?q=%22devonta+lee%22\",\n    \"promoted_content\": null,\n    \"query\": \"%22devonta+lee%22\",\n    \"tweet_volume\": null\n   },\n   {\n    \"name\": \"Ishmael Sopsher\",\n    \"url\": \"http://twitter.com/search?q=%22Ishmael+Sopsher%22\",\n    \"promoted_content\": null,\n    \"query\": \"%22Ishmael+Sopsher%22\",\n    \"tweet_volume\": null\n   },\n   {\n    \"name\": \"World War Z\",\n    \"url\": \"http://twitter.com/search?q=%22World+War+Z%22\",\n    \"promoted_content\": null,\n    \"query\": \"%22World+War+Z%22\",\n    \"tweet_volume\": null\n   },\n   {\n    \"name\": \"Bob Stoops\",\n    \"url\": \"http://twitter.com/search?q=%22Bob+Stoops%22\",\n    \"promoted_content\": null,\n    \"query\": \"%22Bob+Stoops%22\",\n    \"tweet_volume\": null\n   },\n   {\n    \"name\": \"Kirk Cox\",\n    \"url\": \"http://twitter.com/search?q=%22Kirk+Cox%22\",\n    \"promoted_content\": null,\n    \"query\": \"%22Kirk+Cox%22\",\n    \"tweet_volume\": null\n   },\n   {\n    \"name\": \"World Bank\",\n    \"url\": \"http://twitter.com/search?q=%22World+Bank%22\",\n    \"promoted_content\": null,\n    \"query\": \"%22World+Bank%22\",\n    \"tweet_volume\": 14141\n   },\n   {\n    \"name\": \"Charlie Collier\",\n    \"url\": \"http://twitter.com/search?q=%22Charlie+Collier%22\",\n    \"promoted_content\": null,\n    \"query\": \"%22Charlie+Collier%22\",\n    \"tweet_volume\": null\n   },\n   {\n    \"name\": \"Global School Play Day\",\n    \"url\": \"http://twitter.com/search?q=%22Global+School+Play+Day%22\",\n    \"promoted_content\": null,\n    \"query\": \"%22Global+School+Play+Day%22\",\n    \"tweet_volume\": null\n   },\n   {\n    \"name\": \"Signing Day\",\n    \"url\": \"http://twitter.com/search?q=%22Signing+Day%22\",\n    \"promoted_content\": null,\n    \"query\": \"%22Signing+Day%22\",\n    \"tweet_volume\": 45866\n   },\n   {\n    \"name\": \"#NSD19\",\n    \"url\": \"http://twitter.com/search?q=%23NSD19\",\n    \"promoted_content\": null,\n    \"query\": \"%23NSD19\",\n    \"tweet_volume\": 41901\n   },\n   {\n    \"name\": \"#wednesdaythoughts\",\n    \"url\": \"http://twitter.com/search?q=%23wednesdaythoughts\",\n    \"promoted_content\": null,\n    \"query\": \"%23wednesdaythoughts\",\n    \"tweet_volume\": 21098\n   },\n   {\n    \"name\": \"#GSPD2019\",\n    \"url\": \"http://twitter.com/search?q=%23GSPD2019\",\n    \"promoted_content\": null,\n    \"query\": \"%23GSPD2019\",\n    \"tweet_volume\": null\n   },\n   {\n    \"name\": \"#PelosiClap\",\n    \"url\": \"http://twitter.com/search?q=%23PelosiClap\",\n    \"promoted_content\": null,\n    \"query\": \"%23PelosiClap\",\n    \"tweet_volume\": 12412\n   },\n   {\n    \"name\": \"#LeadHerForward\",\n    \"url\": \"http://twitter.com/search?q=%23LeadHerForward\",\n    \"promoted_content\": null,\n    \"query\": \"%23LeadHerForward\",\n    \"tweet_volume\": null\n   },\n   {\n    \"name\": \"#WednesdayMotivation\",\n    \"url\": \"http://twitter.com/search?q=%23WednesdayMotivation\",\n    \"promoted_content\": null,\n    \"query\": \"%23WednesdayMotivation\",\n    \"tweet_volume\": 43479\n   },\n   {\n    \"name\": \"#ElCl\\u00e1sico\",\n    \"url\": \"http://twitter.com/search?q=%23ElCl%C3%A1sico\",\n    \"promoted_content\": null,\n    \"query\": \"%23ElCl%C3%A1sico\",\n    \"tweet_volume\": 75823\n   },\n   {\n    \"name\": \"#HowIGetRedemption\",\n    \"url\": \"http://twitter.com/search?q=%23HowIGetRedemption\",\n    \"promoted_content\": null,\n    \"query\": \"%23HowIGetRedemption\",\n    \"tweet_volume\": null\n   },\n   {\n    \"name\": \"#CarinaPitch\",\n    \"url\": \"http://twitter.com/search?q=%23CarinaPitch\",\n    \"promoted_content\": null,\n    \"query\": \"%23CarinaPitch\",\n    \"tweet_volume\": null\n   },\n   {\n    \"name\": \"#KISDBragChat\",\n    \"url\": \"http://twitter.com/search?q=%23KISDBragChat\",\n    \"promoted_content\": null,\n    \"query\": \"%23KISDBragChat\",\n    \"tweet_volume\": null\n   },\n   {\n    \"name\": \"#NSD2019\",\n    \"url\": \"http://twitter.com/search?q=%23NSD2019\",\n    \"promoted_content\": null,\n    \"query\": \"%23NSD2019\",\n    \"tweet_volume\": null\n   },\n   {\n    \"name\": \"#EVEMCI\",\n    \"url\": \"http://twitter.com/search?q=%23EVEMCI\",\n    \"promoted_content\": null,\n    \"query\": \"%23EVEMCI\",\n    \"tweet_volume\": 11274\n   },\n   {\n    \"name\": \"#UnitedWayChat\",\n    \"url\": \"http://twitter.com/search?q=%23UnitedWayChat\",\n    \"promoted_content\": null,\n    \"query\": \"%23UnitedWayChat\",\n    \"tweet_volume\": null\n   },\n   {\n    \"name\": \"#TakeItBack\",\n    \"url\": \"http://twitter.com/search?q=%23TakeItBack\",\n    \"promoted_content\": null,\n    \"query\": \"%23TakeItBack\",\n    \"tweet_volume\": null\n   },\n   {\n    \"name\": \"#mespamn\",\n    \"url\": \"http://twitter.com/search?q=%23mespamn\",\n    \"promoted_content\": null,\n    \"query\": \"%23mespamn\",\n    \"tweet_volume\": null\n   },\n   {\n    \"name\": \"#MannequinComplaints\",\n    \"url\": \"http://twitter.com/search?q=%23MannequinComplaints\",\n    \"promoted_content\": null,\n    \"query\": \"%23MannequinComplaints\",\n    \"tweet_volume\": null\n   },\n   {\n    \"name\": \"#HalaMadrid\",\n    \"url\": \"http://twitter.com/search?q=%23HalaMadrid\",\n    \"promoted_content\": null,\n    \"query\": \"%23HalaMadrid\",\n    \"tweet_volume\": 30614\n   },\n   {\n    \"name\": \"#MakeANewFriendIn4Words\",\n    \"url\": \"http://twitter.com/search?q=%23MakeANewFriendIn4Words\",\n    \"promoted_content\": null,\n    \"query\": \"%23MakeANewFriendIn4Words\",\n    \"tweet_volume\": null\n   },\n   {\n    \"name\": \"#WallpaperWednesday\",\n    \"url\": \"http://twitter.com/search?q=%23WallpaperWednesday\",\n    \"promoted_content\": null,\n    \"query\": \"%23WallpaperWednesday\",\n    \"tweet_volume\": null\n   },\n   {\n    \"name\": \"#frank2019\",\n    \"url\": \"http://twitter.com/search?q=%23frank2019\",\n    \"promoted_content\": null,\n    \"query\": \"%23frank2019\",\n    \"tweet_volume\": null\n   },\n   {\n    \"name\": \"#Team211\",\n    \"url\": \"http://twitter.com/search?q=%23Team211\",\n    \"promoted_content\": null,\n    \"query\": \"%23Team211\",\n    \"tweet_volume\": null\n   },\n   {\n    \"name\": \"#FunkoTwitterLive\",\n    \"url\": \"http://twitter.com/search?q=%23FunkoTwitterLive\",\n    \"promoted_content\": null,\n    \"query\": \"%23FunkoTwitterLive\",\n    \"tweet_volume\": null\n   },\n   {\n    \"name\": \"#SadComicBooks\",\n    \"url\": \"http://twitter.com/search?q=%23SadComicBooks\",\n    \"promoted_content\": null,\n    \"query\": \"%23SadComicBooks\",\n    \"tweet_volume\": null\n   },\n   {\n    \"name\": \"#ipadacademy\",\n    \"url\": \"http://twitter.com/search?q=%23ipadacademy\",\n    \"promoted_content\": null,\n    \"query\": \"%23ipadacademy\",\n    \"tweet_volume\": null\n   },\n   {\n    \"name\": \"#globalplayday\",\n    \"url\": \"http://twitter.com/search?q=%23globalplayday\",\n    \"promoted_content\": null,\n    \"query\": \"%23globalplayday\",\n    \"tweet_volume\": null\n   }\n  ],\n  \"as_of\": \"2019-02-06T20:09:43Z\",\n  \"created_at\": \"2019-02-06T20:04:49Z\",\n  \"locations\": [\n   {\n    \"name\": \"United States\",\n    \"woeid\": 23424977\n   }\n  ]\n }\n]\n"
     ]
    }
   ],
   "source": [
    "import json\n",
    "\n",
    "print((json.dumps(us_trends[:2], indent=1)))"
   ]
  },
  {
   "cell_type": "markdown",
   "metadata": {},
   "source": [
    "## Example 4. Computing the intersection of two sets of trends"
   ]
  },
  {
   "cell_type": "markdown",
   "metadata": {},
   "source": []
  },
  {
   "cell_type": "code",
   "execution_count": 9,
   "metadata": {},
   "outputs": [],
   "source": [
    "trends_set = {}\n",
    "trends_set['world'] = set([trend['name']\n",
    "                           for trend in world_trends[0]['trends']])\n",
    "\n",
    "trends_set['us'] = set([trend['name']\n",
    "                        for trend in us_trends[0]['trends']])\n",
    "\n",
    "trends_set['san diego'] = set([trend['name']\n",
    "                               for trend in local_trends[0]['trends']])\n"
   ]
  },
  {
   "cell_type": "markdown",
   "metadata": {},
   "source": [
    "doing is\n",
    "we are first creating a four loop\n",
    "that joins all the trends for a particular location\n",
    "and prints them in pretty format."
   ]
  },
  {
   "cell_type": "code",
   "execution_count": 10,
   "metadata": {},
   "outputs": [
    {
     "name": "stdout",
     "output_type": "stream",
     "text": [
      "('----------', 'world')\n#Vurgun,#NGWSD,#HalaMadrid,Malcom,#EFA_Violates_Decisions_of_CAF,#NSD19,CanlaBaşla TahsinBABAŞla,Matt Bryant,Virginia,#TürkHürriyetsizOlmaz,#LulaLivre2043,#MengoniSanremo2019,#Gasco,#الكلاسيكو,#HazalAliWedding,#GSvHTY,#برشلونه_ريال_مدريد,#FCVBPSG,#YoVoy,#NefeseTeslim,#ZiyaHocam1200UcretliyiAta,#AgrubuKadroBekliyor,#specialplaceinhell,Donald Tusk,Gabriela Hardt,#Mehdi,#BSCFCB,#DirilişTurgutAltınok,Villefranche,#Assauer,#ChauNetflix,Ibagué,#EVEMCI,#6Feb,#EtimesgutaAylinBaşkan,#HanaNaCasaDeVidro,#ThingsIKnowIllNeverDo,#ElClásico,Aysti Kola,#GeziciAnketRezaleti,#النصر_القادسيه,#وفاه_الفريق_سعود_الهلال,ElClasico Hilbettvde,#NationalSigningDay,#askmeek,#şuleçetiçinadalet,#ไทยรักษาชาติ,Mais 12,TwitarttırCom Açıldı,Atibaia\n('----------', 'us')\n#NGWSD,#WallpaperWednesday,#wednesdaythoughts,#MannequinComplaints,#HalaMadrid,Signing Day,#NSD19,#WednesdayMotivation,Matt Bryant,#SadComicBooks,Vanessa Tyson,#globalplayday,Charlie Collier,#HowIGetRedemption,#KISDBragChat,#ipadacademy,#PelosiClap,Mark Herring,World War Z,#UnitedWayChat,#mespamn,#GSPD2019,Ishmael Sopsher,#FunkoTwitterLive,#WednesdayWisdom,Stanley Johnson,#CarinaPitch,Bob Marley,#LeadHerForward,#MakeANewFriendIn4Words,Kurtis Blow,#EVEMCI,#TakeItBack,#frank2019,#ThingsIKnowIllNeverDo,#NSD2019,Bob Stoops,#ElClásico,#Team211,devonta lee,Thon Maker,#NationalSigningDay,Malachi Richardson,World Bank,Kirk Cox,#askmeek,Virginia Democrats,Cody McLeod,Global School Play Day,Brian Boyle\n('----------', 'san diego')\nStacey Abrams,#NGWSD,#WallpaperWednesday,#wednesdaythoughts,#MannequinComplaints,President Trump,#HalaMadrid,#NSD19,#WednesdayMotivation,Matt Bryant,#SadComicBooks,Vanessa Tyson,#HowIGetRedemption,#KISDBragChat,#PelosiClap,Mark Herring,World War Z,#UnitedWayChat,#mespamn,#GSPD2019,Ishmael Sopsher,#FunkoTwitterLive,#WednesdayWisdom,Stanley Johnson,State of the Union,#CarinaPitch,Bob Marley,#LeadHerForward,Kurtis Blow,#EVEMCI,#StateOfTheUnion,#TakeItBack,#frank2019,#ThingsIKnowIllNeverDo,#NSD2019,Bob Stoops,#ElClásico,#Team211,devonta lee,Thon Maker,World Bank,Malachi Richardson,#NationalSigningDay,#SOTU,Kirk Cox,#askmeek,Virginia Democrats,Cody McLeod,Nancy Pelosi,Brian Boyle\n"
     ]
    }
   ],
   "source": [
    "for loc in ['world', 'us', 'san diego']:\n",
    "    print(('-'*10, loc))\n",
    "    print((','.join(trends_set[loc])))"
   ]
  },
  {
   "cell_type": "code",
   "execution_count": 11,
   "metadata": {
    "collapsed": false
   },
   "outputs": [
    {
     "name": "stdout",
     "output_type": "stream",
     "text": [
      "('==========', 'intersection of world and us')\n{'#NGWSD', '#NationalSigningDay', '#HalaMadrid', '#askmeek', '#NSD19', 'Matt Bryant', '#EVEMCI', '#ThingsIKnowIllNeverDo', '#ElClásico'}\n('==========', 'intersection of us and  san-diego')\n{'#WallpaperWednesday', '#NGWSD', 'Brian Boyle', '#wednesdaythoughts', '#HalaMadrid', '#MannequinComplaints', '#NSD19', '#WednesdayMotivation', 'Matt Bryant', '#SadComicBooks', 'Vanessa Tyson', '#HowIGetRedemption', '#KISDBragChat', '#PelosiClap', 'Mark Herring', 'World War Z', '#UnitedWayChat', '#mespamn', '#GSPD2019', 'Ishmael Sopsher', '#FunkoTwitterLive', '#WednesdayWisdom', 'Stanley Johnson', '#CarinaPitch', 'Bob Marley', '#LeadHerForward', 'Kurtis Blow', '#EVEMCI', '#TakeItBack', '#frank2019', '#ThingsIKnowIllNeverDo', '#NSD2019', 'Bob Stoops', '#ElClásico', '#Team211', 'devonta lee', 'Thon Maker', '#NationalSigningDay', 'Malachi Richardson', 'World Bank', 'Kirk Cox', '#askmeek', 'Cody McLeod', 'Virginia Democrats'}\n"
     ]
    }
   ],
   "source": [
    "print(('='*10, 'intersection of world and us'))\n",
    "print((trends_set['world'].intersection(trends_set['us'])))\n",
    "\n",
    "print(('='*10, 'intersection of us and  san-diego'))\n",
    "print((trends_set['san diego'].intersection(trends_set['us'])))"
   ]
  },
  {
   "cell_type": "markdown",
   "metadata": {},
   "source": [
    "## Example 5. Collecting search results\n",
    "\n",
    "Set the variable `q` to a trending topic, \n",
    "or anything else for that matter. The example query below\n",
    "was a trending topic when this content was being developed\n",
    "and is used throughout the remainder of this chapter"
   ]
  },
  {
   "cell_type": "code",
   "execution_count": 12,
   "metadata": {},
   "outputs": [],
   "source": [
    "q = '#NSD19'\n",
    "number = 100\n",
    "# See https://dev.twitter.com/docs/api/1.1/get/search/tweets\n",
    "\n",
    "search_results = twitter_api.search.tweets(q=q, count=number)\n",
    "statuses = search_results['statuses']"
   ]
  },
  {
   "cell_type": "code",
   "execution_count": 15,
   "metadata": {
    "collapsed": false
   },
   "outputs": [
    {
     "name": "stdout",
     "output_type": "stream",
     "text": [
      "100\n"
     ]
    }
   ],
   "source": [
    "print(len(statuses))\n",
    "#print(statuses)"
   ]
  },
  {
   "cell_type": "markdown",
   "metadata": {},
   "source": [
    "Twitter often returns duplicate results, we can filter them out checking for duplicate texts:"
   ]
  },
  {
   "cell_type": "code",
   "execution_count": 16,
   "metadata": {},
   "outputs": [],
   "source": [
    "all_text = []\n",
    "filtered_statuses = []\n",
    "for s in statuses:\n",
    "    if not s['text'] in all_text:\n",
    "        filtered_statuses.append(s)\n",
    "        all_text.append(s['text'])\n",
    "statuses = filtered_statuses"
   ]
  },
  {
   "cell_type": "markdown",
   "metadata": {},
   "source": [
    "And if the same text of the tweet,\n",
    "which is the tweet message,\n",
    "is not in already in that all_text\n",
    "that we are keeping track of,\n",
    "we are going to append that to filtered_statuses.\n",
    "And in the end when we are done with this for loop,\n",
    "we'll assign this filtered_statuses to statuses\n",
    "that object we had as the response from Twitter before."
   ]
  },
  {
   "cell_type": "code",
   "execution_count": 17,
   "metadata": {},
   "outputs": [
    {
     "name": "stdout",
     "output_type": "stream",
     "text": [
      "90\n"
     ]
    }
   ],
   "source": [
    "print(len(statuses))"
   ]
  },
  {
   "cell_type": "code",
   "execution_count": 18,
   "metadata": {
    "collapsed": true
   },
   "outputs": [
    {
     "data": {
      "text/plain": [
       "['RT @NickRalston22: 🚨 New addition to the #cULture on Feb. 6, 2019!\\n\\n🗣 Nick Ralston\\n📍 Argyle, Texas\\n📝 Arizona State University\\n🏈 Tight End…',\n 'RT @vypehouston: #NSD19 at @NSSHS_gpisd was a busy one with 16 players signing. Caught up with a few. \\n\\n@Tbradford97 - @TexasTechFB \\n@Ajani…',\n 'RT @king00770975: 🚨 New addition to the #cULture on Feb. 6, 2019!\\n\\n🗣 King McGowen\\n📍 Willis, Texas\\n📝 Willis HS\\n🏈 Offensive Line \\n\\n#NSD19 | #…',\n 'RT @mcmichael20: NSD Q&amp;A with Louisville signee @bigdes01 : https://t.co/dx1RrESLg6 #NSD19',\n 'RT @MichaelEhrlich: PUNTERS ARE BRANDS TOO.\\n\\n🙌 @louishedley1 🙌\\n\\n#NSD19\\n#NationalSigningDay\\n#BrandFood https://t.co/KmVNiymrFv',\n 'RT @BSCFootball: Dylon Kelley can do it all! Versatile athlete from Gulf Breeze, FL.\\n\\n#Excellence\\n#NSD19 https://t.co/B1Pwnff82H',\n 'RT @SWOSUFootball: Welcome @sauccy_k to the family! First #TXDawg! \\n\"Kingsley is a QB from the Lone Star State that will bring us great lea…',\n 'RT @FoleyLionsFB: Congratulations to Drew McClellan for signing with Mississippi College! #1ROAR #NSD19 https://t.co/F1WGKf8rCq',\n 'RT @GatorsFB: .@king_hendi ➡ #Playmaker  \\n\\n👀 - https://t.co/U3PjvCGdkU  \\n\\n#SwampSquadXIX 🐊 #NSD19 https://t.co/vgzltvIVDj',\n 'RT @carlicliftonn: \"hard work beats talent when talent doesn\\'t work hard\" #nsd19 #BGOE https://t.co/rmMRgl0W64',\n 'RT @AustinPeayFB: Welcome, Bryce Robinson, to Austin Peay and a new era of Governor Football! 🎩🏈✍️\\n\\n#untAPped\\n#NSD19 https://t.co/iX5JsiLfOb',\n 'RT @SWOSUFootball: Welcome @JamareeAyers8 to the family! #OKDawg\\n\"JaMaree is a strong, tenacious, athletic player that will make an immedia…',\n 'RT @NickRalston22: 🚨 New addition to the #cULture on Feb. 6, 2019!\\n\\n🗣 Nick Ralston\\n📍 Argyle, Texas\\n📝 Arizona State University\\n🏈 Tight End…',\n 'NCHS offensive lineman A.J. Gillie commits and signs to @RaginCajunsFB. #GeauxCajuns #NSD19 #NationalSigningDay… https://t.co/D2f4VW5adL',\n 'To’oto’o announcing any minute on ESPNU, not on ESPN2 #NSD19',\n 'RT @OleMissFB: SIGNED | @Lakia_henry_4 is a Landshark! Welcome to the Ole Miss family! #FutureRebels #NSD19\\n\\n📰 https://t.co/eWtWhj3pDp http…',\n 'RT @Cuse: Watch the LIVE @CuseFootball #NSD19 special presented by @NissanUSA at 4 pm ET on WatchESPN:\\n\\n🔗 https://t.co/3MT6qcDNOA\\n\\n#BeTheA1…',\n \"RT @GeorgiaTechFB: We're 🔥 up to have @JamiousGriffin on The Flats 👊 #404theCULTURE #NSD19 \\n\\n#FutureJackets 🐝🐝🐝 https://t.co/CMqH8IUsZU\",\n 'RT @gosxucougars: NEWS: @SXUFootball adds 21 new Cougars on National Signing Day #NSD19\\n - https://t.co/b1MiTjYB5F https://t.co/YXOwJigswX',\n 'RT @kwc_football: Welcome to Owensboro, Aaron Hatter! #PawsUp #NSD19\\n🐾 Defensive Line \\n🐾 6’4 // 245\\n🐾 Danville, KY (Boyle Co.)\\n🐾 @a_hatter1…',\n 'RT @vypehouston: #NSD19 at @NSSHS_gpisd was a busy one with 16 players signing. Caught up with a few. \\n\\n@Tbradford97 - @TexasTechFB \\n@Ajani…',\n 'RT @HBU_Football: Another dawg @MontezEvans3 joins the pack! #NSD19 #buildingchampions https://t.co/JUuvKhvVEE',\n 'RT @BSCFootball: Latest news comes from right here in Birmingham. Trey Gory from Mountain Brook is joining the #TrenchMob!\\n\\n#Excellence\\n#NS…',\n 'RT @WVWCFB: Welcome @doublea_56 to the #BobcatFBFam!\\n\"Anthony is an explosive, disruptive presence on the Defensive Line, and we couldn\\'t b…',\n 'RT @SWOSUFootball: Welcome @juanmacedo56 to the family! 23rd #OKDawg \\n\"Juan is going to be a unique talent in the middle of our defense. Hi…',\n \"RT @SpiderFootball: That's one good looking signing class for 🕷🏈! 1️⃣9️⃣ future standouts joined the program from today's signing period an…\",\n 'RT @coachzwaan: Welcome the newest member of the Golden Ram Family! #RamsOnTop #NSD19 https://t.co/ZX2Yym9QzW',\n \"RT @EMUFB: It's official: #GangGreen19 has welcomed nine new members and is ready to help bring #EMUFB to a whole new level. \\n\\nLearn a litt…\",\n 'RT @KU_Football: “I have learned so much from Coach Miles from my time when I played for him at LSU. I’m trying to pass all that down to th…',\n 'RT @gogriffons: X _______________________\\n\\n#NSD19 for Griffon 🏈\\n\\nFollow @GriffonFootball for updates all day.\\n\\nHear @CoachWillie discuss th…',\n 'RT @WVWCFB: Welcome @crohr12 to the #BobcatFBFam!\\n\"Caden has done a great job as a field general right down the road at Lewis Co. We can\\'t…',\n 'RT @APSUFBFamily: Welcome to the Austin Peay Football Family @BryceRobinsonqb !! It’s a GREAT DAY to be a GOV!!! #NSD19 #LetsGoPeay #untAPp…',\n 'RT @GatorsFB: .@diwunblack ➡ #Playmaker  \\n\\n👀 - https://t.co/U3PjvCGdkU  \\n\\n#SwampSquadXIX 🐊 #NSD19 https://t.co/DhRm6C5DiM',\n 'RT @king00770975: 🚨 New addition to the #cULture on Feb. 6, 2019!\\n\\n🗣 King McGowen\\n📍 Willis, Texas\\n📝 Willis HS\\n🏈 Offensive Line \\n\\n#NSD19 | #…',\n 'RT @WVWCFB: Welcome @Day1Jalen to the #BobcatFBFam!\\n\"Jalen is an extremely versatile DB that\\'s comfortable both at CB and $\" -@CoachTestaWV…',\n 'Welcome @juanmacedo56 to the family! 23rd #OKDawg \\n\"Juan is going to be a unique talent in the middle of our defens… https://t.co/TPinUKuz1K',\n 'RT @AshlandFB: Welcome to AU Football Larry Martin! 🏈\\n\\n#NSD19 🖊️ https://t.co/LEBF4SSuUF',\n \"Next up is an interior lineman for the Peacock defense! Mason Conn will fit right in with Coach Wyatt's group!… https://t.co/wfnmgRcTWG\",\n 'RT @WVWCFB: Welcome @JalenFant42 to the #BobcatFBFam!\\n\"Jalen is an extremely versatile DB that\\'s comfortable in the slot &amp; has excellent ba…',\n 'RT @KU_Football: \"At the end of the day, it’s about relationships. You want to be around someone you can trust &amp; having Coach Miles at the…',\n 'RT @JasonSlowey: Welcome home @CooneyMiles‼️🤘🏼\\n\\nWA ➡️ OR\\n\\n🔘 2x 1st Team SPSL Linebacker\\n🔘 Curtis HS All-Time Leader in Tackles\\n\\n#BashBros /…',\n 'RT @SWOSUFootball: Welcome @THE_DUKE_75 to the family! #TXDawg\\n\"Cooper is a punishing physical blocker who will be a huge help to us in our…',\n 'So blessed to have signed with @GVVikingFB so proud of all my brothers who committed today as well @MJGOLDENBEARFB… https://t.co/ew3INj37Y3',\n \"RT @OleMissFB: SIGNED | You may have seen the announcement on ESPN2, but it's now official! RB @ealy_1k is an Ole Miss Rebel! #FutureRebels…\",\n 'RT @GridironStuds: Most people have no idea what it takes to get to this day. #NSD19',\n 'RT @TiffinUFB: #DragonNation Please welcome @Yofahja1 Joel Mitchell to the family! #BR1N9theFIRE #NSD19 🐲🔥🔥🔥 https://t.co/eG49uSQSNy',\n 'RT @WVWCFB: Welcome @kessler_levi to the #BobcatFBFam!\\n\"Levi is exactly the sort of hard-nosed, physical player we are looking for on our O…',\n 'RT @UWGAthletics: Pinson Valley➡️West Georgia\\n\\nWelcome West, Rhasaan Christian! #DeansList19 #NSD19 https://t.co/pJ2CEfEOBc',\n 'i would like a twitter endorsement from @Tapout tough man gear. #WhatsWrongWithMiles #NGWSD #NSD19… https://t.co/PcYe4l9k97',\n 'RT @RazorbackFB: Check out the highlights of our newest 👐🐗\\n\\n🎥➡️ @TreylonBurks\\n\\n#NSD19 https://t.co/v9ZnwTjHzs',\n 'Welcome to Cowboy Country Markel Cotton of Franklinton, LA!\\n\\n#GeauxPokes | #LaFamilia | #NSD19 https://t.co/UKz4B9u0ZW',\n 'RT @WVWCFB: Welcome @kdubbas to the #BobcatFBFam!\\n\"Keenan is a force on the interior DL. We feel that he can become a dominant presence in…',\n 'RT @dennisonfox7: Tom Herman opens his #NSD19 presser with a Derrian Brown update. The incoming RB from Georgia is \"getting better every da…',\n 'RT @rohawksfootball: Congratulations to all of our 2019 signees! You left a great legacy and laid the foundation of the #NewRedOak for futu…',\n 'RT @kwc_football: Welcome to Owensboro, Chase Conner! #PawsUp #NSD19\\n🐾 Offensive Line \\n🐾 6’4 // 250\\n🐾 Elizabethtown, KY (Central Hardin)\\n🐾…',\n 'RT @KollinsPettaway: #NSD19 @UCPatriotFball @SwellsUC https://t.co/gDxabLdbLt',\n 'RT @EMUFB: 🎥 A 6-2 defensive lineman, Jose Ramirez is coming to Ypsilanti by way of Orlando!\\n\\n#NSD19 | #GangGreen19 | #EMUEagles https://t.…',\n '#NSD19 #fUTure19 https://t.co/3tM2hynzwQ',\n 'RT @WVWCFB: Welcome @CammBandz to the #BobcatFBFam!\\n\"Cameron is a force in open space &amp; has a great nose for the ball.\" -@CoachTestaWVWC #N…',\n 'RT @1stChAKAlate: Medgar Evers was a civil rights activist who served as the 1st field secretary of the NAACP until his death in 1963. \\nOn…',\n 'RT @NickRalston22: 🚨 New addition to the #cULture on Feb. 6, 2019!\\n\\n🗣 Nick Ralston\\n📍 Argyle, Texas\\n📝 Arizona State University\\n🏈 Tight End…',\n 'RT @GSAthletics_FB: WELCOME TO EAGLE NATION ZACK SESSA. The newest member of @GSspecialists\\n\\n@zacksessa\\n\\n#HailSouthern\\n#GATA\\n#GTG\\n#NSD19\\n\\nF…',\n 'RT @WVWCFB: Welcome @paperchasing_5 to the #BobcatFBFam!\\n\"Keenan is a sure tackler in space that has the sort of sideline-to-sideline motor…',\n 'RT @kwc_football: Welcome to Owensboro, Jacob Shelton! #PawsUp #NSD19\\n🐾 Defensive Line\\n🐾 6’1 // 240\\n🐾 Owensboro, KY (Daviess Co.)\\n🐾 @6jbs20…',\n 'RT @RazorbackFB: 📝✉️📤 @hudsonhenry84 is a Razorback!\\n\\n#NSD19 https://t.co/CwGHtelxEm',\n 'RT @UBFootball: Welcome to the UB family, Jordan! #UBhornsUP #NSD19 https://t.co/YXvNFeYCAG',\n 'RT @WVWCFB: Welcome @ayoo_chriss to the #BobcatFBFam!\\n\"Christian does a great job of maximizing his length as a CB, and has a great knack f…',\n 'RT @GSAthletics_FB: WELCOME TO EAGLE NATION ZACK SESSA. The newest member of @GSspecialists\\n\\n@zacksessa\\n\\n#HailSouthern\\n#GATA\\n#GTG\\n#NSD19\\n\\nF…',\n 'RT @NickRalston22: 🚨 New addition to the #cULture on Feb. 6, 2019!\\n\\n🗣 Nick Ralston\\n📍 Argyle, Texas\\n📝 Arizona State University\\n🏈 Tight End…',\n \"RT @leftyQB2019: It's been a long time coming!💯 #NSD19 #Forkem #Valley19Motion https://t.co/AeR3lbegor\",\n 'RT @JeffHowe247: Herman said the #Longhorns are “super excited” to able to announce four-star OL Javonne Shepherd as a part of the class.…',\n 'RT @ShipURaiders: FB: In conjunction with #NSD19, @ShipFootball has launched an apparel flash store through BSN Sports in which Red Raider…',\n 'RT @drewking0222: Another signing for the Rattlers: Libero Celie Contreras commits to Texas Lutheran #NSD19 https://t.co/LC5FZaQtPe',\n \"RT @FairmontStateFB: Welcome to the Falcon Family Jar'Quan Fraley! \\n\\n@_ynaeb \\n\\n#FalconFreaks #NSD19 https://t.co/VKoiXLC5Uv\",\n 'RT @CSPBearsFB: From Saint Augustine, FL we welcome Collin Hartley, a kicker from Nease High School, to St. Paul on #NSD19! #Build1n9OnTheR…',\n 'RT @WVWCFB: Welcome @michael_haley77 to the #BobcatFBFam!\\n\"Big Mike is a force on the OL. He has tremendous body control and gave up 0 sack…',\n 'RT @OleMissFB: SIGNED | @Lakia_henry_4 is a Landshark! Welcome to the Ole Miss family! #FutureRebels #NSD19\\n\\n📰 https://t.co/eWtWhj3pDp http…',\n 'RT @UWGAthletics: Pell City➡️West Georgia\\n\\nWelcome West, Avery Weiss! #DeansList19 #NSD19 https://t.co/M8sVp4vgrr',\n \"RT @LafColFootball: If you're going to throw the ball (and we are) you need plenty of options...WR @ryandengler_ joining the Leopard footba…\",\n 'RT @WVWCFB: Welcome @calebacottrell to the #BobcatFBFam!\\n\"Caleb is an extremely hard-working and versatile DB.\" -@CoachTestaWVWC #NSD19 \\n🏈D…',\n \"RT @UAPBLionsRoar: Welcome to the Lion's Den, Dalyn Hill! \\n\\n#HuntWithTheL19ns 🏈\\n#NSD19 https://t.co/cHEAvbSrQE\",\n 'RT @GeorgiaTechFB: Welcome to Atlanta, Jamious Griffin! #FutureJackets #NSD19\\n🐝 Running Back \\n🐝 5-10 // 210\\n🐝 Rome, GA (Rome HS)\\n🐝 @Jamious…',\n \"RT @NGUFootball1: #CruNation Please welcome @EricTuttle3 , a Gunslingin' QB from Berkeley High School!\\n#KN19HTLIFE | #NSD19 https://t.co/iT…\",\n 'RT @gvsufootball: Here we go! 😤\\nWelcome to Laker Nation @JohnLulaj!\\n\\n#AnchorUp #NSD19 https://t.co/OV4qD7XomK',\n 'RT @WVWCFB: Welcome @1emdawg to the #BobcatFBFam!\\n\"Emmett is an explosive playmaker at the QB position that can score from anywhere on the…',\n 'Congrats To All The Young Men Who Are Pursuing Their Dreams \\n📚🏈💪🏾#GetNoticed #NSD19\\n@Bigwill46798139 @CSmithScout… https://t.co/ksX7plc7rL',\n 'RT @ETSUFootball: The Bucs land another offensive lineman as Max Howell (OL – 6-3 – 310 – Huntington, W. Va. (Huntington HS) is now going t…',\n \"RT @ScottBellDMN: If you're not doing #NSD19 with @SportsDayDFW and @SportsDayHS, you're doing it wrong.\\n\\nSigning day central: https://t.co…\",\n 'RT @RiceFootball: Welcome to the Rice family, Isaac Klarkowski!\\n\\n#NSD19 x #CreateTheFuture https://t.co/17UhAjnLOj',\n 'RT @ShipURaiders: FB: @ShipFootball SIGNING: Bryce Hampton, OL, 6-2, 320, Pleasant Valley. Welcome to the family! #NSD19 https://t.co/AISVl…',\n 'RT @OleMissFB: \"It starts in this state - to get 18 of our 31 from the state of Mississippi is important.\" - @CoachMattLuke #NSD19 #Mississ…',\n 'RT @OleMissFB: \"It starts in this state - to get 18 of our 31 from the state of Mississippi is important.\" - @CoachMattLuke #NSD19 #Mississ…',\n '#DragonNation Please welcome @tdillon_14 Tristan Dillon to the family! #BR1N9theFIRE #NSD19 🐲🔥🔥🔥 https://t.co/FgcPaaFeut',\n 'RT @UWGAthletics: Thompson➡️West Georgia\\n\\nWelcome West, Jalen Bustamante! #DeansList19 #NSD19 https://t.co/CWTdWHNS25',\n 'RT @ETSUFootball: Another specialist has boarded the ship... Welcome Garrett Taylor (K/P – 5-10 – 155 – Murfreesboro, Tenn. (Oakland HS)) t…',\n 'RT @BSCFootball: And another one! Hanes Green from Huntsville is on board. \\n\\n#Excellence\\n#NSD19 https://t.co/lVu1zSU1Wt',\n 'RT @WVWCFB: Welcome @1emdawg to the #BobcatFBFam!\\n\"Emmett is an explosive playmaker at the QB position that can score from anywhere on the…',\n 'RT @psuviksFB: Help us re-welcome Jalen Chatman to Portland!\\n⚔️ Quarterback\\n⚔️ 6-0 // 185\\n⚔️ Inglewood, CA (Narbonne HS) \\n⚔️@Jchatman17 \\nSi…',\n \"RT @EMUFB: It's official: #GangGreen19 has welcomed nine new members and is ready to help bring #EMUFB to a whole new level. \\n\\nLearn a litt…\",\n 'RT @NSUSpartans: Welcome Anthony Gary to the @NSU_FB family! A DL from VHSL 6A state champion Manchester HS in Richmond. #NSD19 #StandUp19…']"
      ]
     },
     "execution_count": 18,
     "metadata": {},
     "output_type": "execute_result"
    }
   ],
   "source": [
    "[s['text'] for s in search_results['statuses']]"
   ]
  },
  {
   "cell_type": "code",
   "execution_count": 19,
   "metadata": {},
   "outputs": [
    {
     "name": "stdout",
     "output_type": "stream",
     "text": [
      "{\n \"created_at\": \"Wed Feb 06 20:09:28 +0000 2019\",\n \"id\": 1093240277945458689,\n \"id_str\": \"1093240277945458689\",\n \"text\": \"RT @NickRalston22: \\ud83d\\udea8 New addition to the #cULture on Feb. 6, 2019!\\n\\n\\ud83d\\udde3 Nick Ralston\\n\\ud83d\\udccd Argyle, Texas\\n\\ud83d\\udcdd Arizona State University\\n\\ud83c\\udfc8 Tight End\\u2026\",\n \"truncated\": false,\n \"entities\": {\n  \"hashtags\": [\n   {\n    \"text\": \"cULture\",\n    \"indices\": [\n     41,\n     49\n    ]\n   }\n  ],\n  \"symbols\": [],\n  \"user_mentions\": [\n   {\n    \"screen_name\": \"NickRalston22\",\n    \"name\": \"Nick Ralston\",\n    \"id\": 1348366854,\n    \"id_str\": \"1348366854\",\n    \"indices\": [\n     3,\n     17\n    ]\n   }\n  ],\n  \"urls\": []\n },\n \"metadata\": {\n  \"iso_language_code\": \"en\",\n  \"result_type\": \"recent\"\n },\n \"source\": \"<a href=\\\"http://twitter.com/download/iphone\\\" rel=\\\"nofollow\\\">Twitter for iPhone</a>\",\n \"in_reply_to_status_id\": null,\n \"in_reply_to_status_id_str\": null,\n \"in_reply_to_user_id\": null,\n \"in_reply_to_user_id_str\": null,\n \"in_reply_to_screen_name\": null,\n \"user\": {\n  \"id\": 2941599099,\n  \"id_str\": \"2941599099\",\n  \"name\": \"Mark Hocke\",\n  \"screen_name\": \"coachmhocke\",\n  \"location\": \"Louisiana, USA\",\n  \"description\": \"\\ud83c\\udfc8Associate Head Coach& Head Strength Coach @ The University of Louisiana \\u2197\\ufe0fsHuT yOuR eYeS aNd sEe\",\n  \"url\": null,\n  \"entities\": {\n   \"description\": {\n    \"urls\": []\n   }\n  },\n  \"protected\": false,\n  \"followers_count\": 5149,\n  \"friends_count\": 1507,\n  \"listed_count\": 33,\n  \"created_at\": \"Fri Dec 26 02:25:51 +0000 2014\",\n  \"favourites_count\": 7498,\n  \"utc_offset\": null,\n  \"time_zone\": null,\n  \"geo_enabled\": false,\n  \"verified\": false,\n  \"statuses_count\": 2738,\n  \"lang\": \"en\",\n  \"contributors_enabled\": false,\n  \"is_translator\": false,\n  \"is_translation_enabled\": false,\n  \"profile_background_color\": \"C0DEED\",\n  \"profile_background_image_url\": \"http://abs.twimg.com/images/themes/theme1/bg.png\",\n  \"profile_background_image_url_https\": \"https://abs.twimg.com/images/themes/theme1/bg.png\",\n  \"profile_background_tile\": false,\n  \"profile_image_url\": \"http://pbs.twimg.com/profile_images/1026433142972981248/7DsKwVEu_normal.jpg\",\n  \"profile_image_url_https\": \"https://pbs.twimg.com/profile_images/1026433142972981248/7DsKwVEu_normal.jpg\",\n  \"profile_banner_url\": \"https://pbs.twimg.com/profile_banners/2941599099/1546660907\",\n  \"profile_link_color\": \"1DA1F2\",\n  \"profile_sidebar_border_color\": \"C0DEED\",\n  \"profile_sidebar_fill_color\": \"DDEEF6\",\n  \"profile_text_color\": \"333333\",\n  \"profile_use_background_image\": true,\n  \"has_extended_profile\": false,\n  \"default_profile\": true,\n  \"default_profile_image\": false,\n  \"following\": false,\n  \"follow_request_sent\": false,\n  \"notifications\": false,\n  \"translator_type\": \"none\"\n },\n \"geo\": null,\n \"coordinates\": null,\n \"place\": null,\n \"contributors\": null,\n \"retweeted_status\": {\n  \"created_at\": \"Wed Feb 06 20:04:48 +0000 2019\",\n  \"id\": 1093239102714068992,\n  \"id_str\": \"1093239102714068992\",\n  \"text\": \"\\ud83d\\udea8 New addition to the #cULture on Feb. 6, 2019!\\n\\n\\ud83d\\udde3 Nick Ralston\\n\\ud83d\\udccd Argyle, Texas\\n\\ud83d\\udcdd Arizona State University\\n\\ud83c\\udfc8 Tight\\u2026 https://t.co/KD5nyGsY92\",\n  \"truncated\": true,\n  \"entities\": {\n   \"hashtags\": [\n    {\n     \"text\": \"cULture\",\n     \"indices\": [\n      22,\n      30\n     ]\n    }\n   ],\n   \"symbols\": [],\n   \"user_mentions\": [],\n   \"urls\": [\n    {\n     \"url\": \"https://t.co/KD5nyGsY92\",\n     \"expanded_url\": \"https://twitter.com/i/web/status/1093239102714068992\",\n     \"display_url\": \"twitter.com/i/web/status/1\\u2026\",\n     \"indices\": [\n      116,\n      139\n     ]\n    }\n   ]\n  },\n  \"metadata\": {\n   \"iso_language_code\": \"en\",\n   \"result_type\": \"recent\"\n  },\n  \"source\": \"<a href=\\\"http://twitter.com\\\" rel=\\\"nofollow\\\">Twitter Web Client</a>\",\n  \"in_reply_to_status_id\": null,\n  \"in_reply_to_status_id_str\": null,\n  \"in_reply_to_user_id\": null,\n  \"in_reply_to_user_id_str\": null,\n  \"in_reply_to_screen_name\": null,\n  \"user\": {\n   \"id\": 1348366854,\n   \"id_str\": \"1348366854\",\n   \"name\": \"Nick Ralston\",\n   \"screen_name\": \"NickRalston22\",\n   \"location\": \"\",\n   \"description\": \"Jesus Saves - TX\",\n   \"url\": \"https://t.co/vn1uixstIQ\",\n   \"entities\": {\n    \"url\": {\n     \"urls\": [\n      {\n       \"url\": \"https://t.co/vn1uixstIQ\",\n       \"expanded_url\": \"http://Instagram.com/nickralston22\",\n       \"display_url\": \"Instagram.com/nickralston22\",\n       \"indices\": [\n        0,\n        23\n       ]\n      }\n     ]\n    },\n    \"description\": {\n     \"urls\": []\n    }\n   },\n   \"protected\": false,\n   \"followers_count\": 1634,\n   \"friends_count\": 385,\n   \"listed_count\": 20,\n   \"created_at\": \"Sat Apr 13 04:53:31 +0000 2013\",\n   \"favourites_count\": 10251,\n   \"utc_offset\": null,\n   \"time_zone\": null,\n   \"geo_enabled\": false,\n   \"verified\": false,\n   \"statuses_count\": 4120,\n   \"lang\": \"en\",\n   \"contributors_enabled\": false,\n   \"is_translator\": false,\n   \"is_translation_enabled\": false,\n   \"profile_background_color\": \"C0DEED\",\n   \"profile_background_image_url\": \"http://abs.twimg.com/images/themes/theme1/bg.png\",\n   \"profile_background_image_url_https\": \"https://abs.twimg.com/images/themes/theme1/bg.png\",\n   \"profile_background_tile\": false,\n   \"profile_image_url\": \"http://pbs.twimg.com/profile_images/1061864680975527936/AqBmbJd1_normal.jpg\",\n   \"profile_image_url_https\": \"https://pbs.twimg.com/profile_images/1061864680975527936/AqBmbJd1_normal.jpg\",\n   \"profile_link_color\": \"1DA1F2\",\n   \"profile_sidebar_border_color\": \"C0DEED\",\n   \"profile_sidebar_fill_color\": \"DDEEF6\",\n   \"profile_text_color\": \"333333\",\n   \"profile_use_background_image\": true,\n   \"has_extended_profile\": true,\n   \"default_profile\": true,\n   \"default_profile_image\": false,\n   \"following\": false,\n   \"follow_request_sent\": false,\n   \"notifications\": false,\n   \"translator_type\": \"none\"\n  },\n  \"geo\": null,\n  \"coordinates\": null,\n  \"place\": null,\n  \"contributors\": null,\n  \"is_quote_status\": false,\n  \"retweet_count\": 12,\n  \"favorite_count\": 18,\n  \"favorited\": false,\n  \"retweeted\": false,\n  \"possibly_sensitive\": false,\n  \"lang\": \"en\"\n },\n \"is_quote_status\": false,\n \"retweet_count\": 12,\n \"favorite_count\": 0,\n \"favorited\": false,\n \"retweeted\": false,\n \"lang\": \"en\"\n}\n"
     ]
    }
   ],
   "source": [
    "# Show one sample search result by slicing the list...\n",
    "\n",
    "print(json.dumps(statuses[0], indent=1))"
   ]
  },
  {
   "cell_type": "code",
   "execution_count": 20,
   "metadata": {},
   "outputs": [
    {
     "name": "stdout",
     "output_type": "stream",
     "text": [
      "12\nFalse\n"
     ]
    }
   ],
   "source": [
    "# The result of the list comprehension is a list with only one element that\n",
    "# can be accessed by its index and set to the variable t\n",
    "\n",
    "t = statuses[0]\n",
    "\n",
    "#[ status for status in statuses \n",
    "#          if status['id'] == 316948241264549888 ][0]\n",
    "\n",
    "# Explore the variable t to get familiarized with the data structure...\n",
    "\n",
    "print(t['retweet_count'])\n",
    "print(t['retweeted'])"
   ]
  },
  {
   "cell_type": "markdown",
   "metadata": {},
   "source": [
    "## Example 6. Extracting text, screen names, and hashtags from tweets\n",
    "\n",
    "We'll use again the text screen names and hashtags\n",
    "for all these records and we'll assign them to lists.\n",
    "We'll call the first list status_texts.\n",
    "So status_texts for all statuses, right?\n",
    "Screen_names will be the next one.\n",
    "User mention screen name and the for status all statuses.\n",
    "And hashtags.\n",
    "We definitely want the hashtags to keep track of them."
   ]
  },
  {
   "cell_type": "code",
   "execution_count": 22,
   "metadata": {},
   "outputs": [],
   "source": [
    "status_texts = [status['text']\n",
    "                for status in statuses]\n",
    "\n",
    "screen_names = [user_mention['screen_name']\n",
    "                for status in statuses\n",
    "                    for user_mention in status['entities']['user_mentions']]\n",
    "\n",
    "hashtags = [hashtag['text']\n",
    "            for status in statuses\n",
    "                for hashtag in status['entities']['hashtags']]\n",
    "\n",
    "# Compute a collection of all words from all tweets\n",
    "\n",
    "words = [w\n",
    "         for t in status_texts\n",
    "            for w in t.split()]"
   ]
  },
  {
   "cell_type": "markdown",
   "metadata": {},
   "source": [
    "We are using the data structure\n",
    "for retrieving the data from the tweet records\n",
    "just as a summary.\n",
    "The third listed here, or fourth, is interesting\n",
    "because we are splitting the message\n",
    "to create a list of all the words.\n",
    "You've seen this in the bag of words.\n",
    "Here we are just using the split function again\n",
    "from the string class.\n",
    "Running this.\n",
    "In the next code cell, we just the JSON dumps\n",
    "to display the first five items for each list."
   ]
  },
  {
   "cell_type": "code",
   "execution_count": 23,
   "metadata": {},
   "outputs": [
    {
     "name": "stdout",
     "output_type": "stream",
     "text": [
      "[\n \"RT @NickRalston22: \\ud83d\\udea8 New addition to the #cULture on Feb. 6, 2019!\\n\\n\\ud83d\\udde3 Nick Ralston\\n\\ud83d\\udccd Argyle, Texas\\n\\ud83d\\udcdd Arizona State University\\n\\ud83c\\udfc8 Tight End\\u2026\",\n \"RT @vypehouston: #NSD19 at @NSSHS_gpisd was a busy one with 16 players signing. Caught up with a few. \\n\\n@Tbradford97 - @TexasTechFB \\n@Ajani\\u2026\",\n \"RT @king00770975: \\ud83d\\udea8 New addition to the #cULture on Feb. 6, 2019!\\n\\n\\ud83d\\udde3 King McGowen\\n\\ud83d\\udccd Willis, Texas\\n\\ud83d\\udcdd Willis HS\\n\\ud83c\\udfc8 Offensive Line \\n\\n#NSD19 | #\\u2026\",\n \"RT @mcmichael20: NSD Q&amp;A with Louisville signee @bigdes01 : https://t.co/dx1RrESLg6 #NSD19\",\n \"RT @MichaelEhrlich: PUNTERS ARE BRANDS TOO.\\n\\n\\ud83d\\ude4c @louishedley1 \\ud83d\\ude4c\\n\\n#NSD19\\n#NationalSigningDay\\n#BrandFood https://t.co/KmVNiymrFv\"\n]\n[\n \"NickRalston22\",\n \"vypehouston\",\n \"NSSHS_gpisd\",\n \"Tbradford97\",\n \"TexasTechFB\"\n]\n[\n \"cULture\",\n \"NSD19\",\n \"cULture\",\n \"NSD19\",\n \"NSD19\"\n]\n[\n \"RT\",\n \"@NickRalston22:\",\n \"\\ud83d\\udea8\",\n \"New\",\n \"addition\"\n]\n"
     ]
    }
   ],
   "source": [
    "# Explore the first 5 items for each...\n",
    "\n",
    "print(json.dumps(status_texts[0:5], indent=1))\n",
    "print(json.dumps(screen_names[0:5], indent=1)) \n",
    "print(json.dumps(hashtags[0:5], indent=1))\n",
    "print(json.dumps(words[0:5], indent=1))"
   ]
  },
  {
   "cell_type": "code",
   "execution_count": null,
   "metadata": {},
   "outputs": [],
   "source": []
  }
 ],
 "metadata": {
  "kernelspec": {
   "display_name": "Python 2",
   "language": "python",
   "name": "python2"
  },
  "language_info": {
   "codemirror_mode": {
    "name": "ipython",
    "version": 2
   },
   "file_extension": ".py",
   "mimetype": "text/x-python",
   "name": "python",
   "nbconvert_exporter": "python",
   "pygments_lexer": "ipython2",
   "version": "2.7.6"
  }
 },
 "nbformat": 4,
 "nbformat_minor": 0
}
